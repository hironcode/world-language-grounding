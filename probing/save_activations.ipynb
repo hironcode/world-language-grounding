{
 "cells": [
  {
   "cell_type": "code",
   "execution_count": 1,
   "metadata": {
    "id": "ve6mDisECCRX"
   },
   "outputs": [
    {
     "name": "stdout",
     "output_type": "stream",
     "text": [
      "Looking in indexes: https://pypi.org/simple, https://pypi.ngc.nvidia.com\n",
      "Collecting elements\n",
      "  Downloading elements-3.18.2.tar.gz (37 kB)\n",
      "  Installing build dependencies ... \u001b[?25ldone\n",
      "\u001b[?25h  Getting requirements to build wheel ... \u001b[?25ldone\n",
      "\u001b[?25h  Preparing metadata (pyproject.toml) ... \u001b[?25ldone\n",
      "\u001b[?25hCollecting google-auth (from elements)\n",
      "  Downloading google_auth-2.37.0-py2.py3-none-any.whl.metadata (4.8 kB)\n",
      "Collecting google-cloud-storage (from elements)\n",
      "  Downloading google_cloud_storage-2.19.0-py2.py3-none-any.whl.metadata (9.1 kB)\n",
      "Requirement already satisfied: numpy in /usr/local/lib/python3.10/dist-packages (from elements) (1.24.4)\n",
      "Requirement already satisfied: psutil in /usr/local/lib/python3.10/dist-packages (from elements) (6.0.0)\n",
      "Collecting ruamel.yaml (from elements)\n",
      "  Downloading ruamel.yaml-0.18.10-py3-none-any.whl.metadata (23 kB)\n",
      "Requirement already satisfied: cachetools<6.0,>=2.0.0 in /usr/local/lib/python3.10/dist-packages (from google-auth->elements) (5.5.0)\n",
      "Collecting pyasn1-modules>=0.2.1 (from google-auth->elements)\n",
      "  Downloading pyasn1_modules-0.4.1-py3-none-any.whl.metadata (3.5 kB)\n",
      "Collecting rsa<5,>=3.1.4 (from google-auth->elements)\n",
      "  Downloading rsa-4.9-py3-none-any.whl.metadata (4.2 kB)\n",
      "Collecting google-api-core<3.0.0dev,>=2.15.0 (from google-cloud-storage->elements)\n",
      "  Downloading google_api_core-2.24.0-py3-none-any.whl.metadata (3.0 kB)\n",
      "Collecting google-cloud-core<3.0dev,>=2.3.0 (from google-cloud-storage->elements)\n",
      "  Downloading google_cloud_core-2.4.1-py2.py3-none-any.whl.metadata (2.7 kB)\n",
      "Collecting google-resumable-media>=2.7.2 (from google-cloud-storage->elements)\n",
      "  Downloading google_resumable_media-2.7.2-py2.py3-none-any.whl.metadata (2.2 kB)\n",
      "Requirement already satisfied: requests<3.0.0dev,>=2.18.0 in /usr/local/lib/python3.10/dist-packages (from google-cloud-storage->elements) (2.32.3)\n",
      "Collecting google-crc32c<2.0dev,>=1.0 (from google-cloud-storage->elements)\n",
      "  Downloading google_crc32c-1.6.0-cp310-cp310-manylinux_2_17_x86_64.manylinux2014_x86_64.whl.metadata (2.3 kB)\n",
      "Collecting ruamel.yaml.clib>=0.2.7 (from ruamel.yaml->elements)\n",
      "  Downloading ruamel.yaml.clib-0.2.12-cp310-cp310-manylinux_2_17_x86_64.manylinux2014_x86_64.whl.metadata (2.7 kB)\n",
      "Collecting googleapis-common-protos<2.0.dev0,>=1.56.2 (from google-api-core<3.0.0dev,>=2.15.0->google-cloud-storage->elements)\n",
      "  Downloading googleapis_common_protos-1.66.0-py2.py3-none-any.whl.metadata (1.5 kB)\n",
      "Requirement already satisfied: protobuf!=3.20.0,!=3.20.1,!=4.21.0,!=4.21.1,!=4.21.2,!=4.21.3,!=4.21.4,!=4.21.5,<6.0.0.dev0,>=3.19.5 in /usr/local/lib/python3.10/dist-packages (from google-api-core<3.0.0dev,>=2.15.0->google-cloud-storage->elements) (4.24.4)\n",
      "Collecting proto-plus<2.0.0dev,>=1.22.3 (from google-api-core<3.0.0dev,>=2.15.0->google-cloud-storage->elements)\n",
      "  Downloading proto_plus-1.25.0-py3-none-any.whl.metadata (2.2 kB)\n",
      "Collecting pyasn1<0.7.0,>=0.4.6 (from pyasn1-modules>=0.2.1->google-auth->elements)\n",
      "  Downloading pyasn1-0.6.1-py3-none-any.whl.metadata (8.4 kB)\n",
      "Requirement already satisfied: charset-normalizer<4,>=2 in /usr/local/lib/python3.10/dist-packages (from requests<3.0.0dev,>=2.18.0->google-cloud-storage->elements) (3.3.2)\n",
      "Requirement already satisfied: idna<4,>=2.5 in /usr/local/lib/python3.10/dist-packages (from requests<3.0.0dev,>=2.18.0->google-cloud-storage->elements) (3.7)\n",
      "Requirement already satisfied: urllib3<3,>=1.21.1 in /usr/local/lib/python3.10/dist-packages (from requests<3.0.0dev,>=2.18.0->google-cloud-storage->elements) (2.0.7)\n",
      "Requirement already satisfied: certifi>=2017.4.17 in /usr/local/lib/python3.10/dist-packages (from requests<3.0.0dev,>=2.18.0->google-cloud-storage->elements) (2024.8.30)\n",
      "Downloading google_auth-2.37.0-py2.py3-none-any.whl (209 kB)\n",
      "Downloading google_cloud_storage-2.19.0-py2.py3-none-any.whl (131 kB)\n",
      "Downloading ruamel.yaml-0.18.10-py3-none-any.whl (117 kB)\n",
      "Downloading google_api_core-2.24.0-py3-none-any.whl (158 kB)\n",
      "Downloading google_cloud_core-2.4.1-py2.py3-none-any.whl (29 kB)\n",
      "Downloading google_crc32c-1.6.0-cp310-cp310-manylinux_2_17_x86_64.manylinux2014_x86_64.whl (37 kB)\n",
      "Downloading google_resumable_media-2.7.2-py2.py3-none-any.whl (81 kB)\n",
      "Downloading pyasn1_modules-0.4.1-py3-none-any.whl (181 kB)\n",
      "Downloading rsa-4.9-py3-none-any.whl (34 kB)\n",
      "Downloading ruamel.yaml.clib-0.2.12-cp310-cp310-manylinux_2_17_x86_64.manylinux2014_x86_64.whl (722 kB)\n",
      "\u001b[2K   \u001b[90m━━━━━━━━━━━━━━━━━━━━━━━━━━━━━━━━━━━━━━━\u001b[0m \u001b[32m722.2/722.2 kB\u001b[0m \u001b[31m201.0 MB/s\u001b[0m eta \u001b[36m0:00:00\u001b[0m\n",
      "\u001b[?25hDownloading googleapis_common_protos-1.66.0-py2.py3-none-any.whl (221 kB)\n",
      "Downloading proto_plus-1.25.0-py3-none-any.whl (50 kB)\n",
      "Downloading pyasn1-0.6.1-py3-none-any.whl (83 kB)\n",
      "Building wheels for collected packages: elements\n",
      "  Building wheel for elements (pyproject.toml) ... \u001b[?25ldone\n",
      "\u001b[?25h  Created wheel for elements: filename=elements-3.18.2-py3-none-any.whl size=34831 sha256=c8997f382207b73e1d98d86bbc3d0728c0d6c1a36edb7ee358cd9946ffea84ba\n",
      "  Stored in directory: /tmp/pip-ephem-wheel-cache-v7mm_gbr/wheels/2d/4d/1c/6fcaebb015630e5f18347bca1e68a977d1661f0c834bb69f11\n",
      "Successfully built elements\n",
      "Installing collected packages: ruamel.yaml.clib, pyasn1, proto-plus, googleapis-common-protos, google-crc32c, ruamel.yaml, rsa, pyasn1-modules, google-resumable-media, google-auth, google-api-core, google-cloud-core, google-cloud-storage, elements\n",
      "Successfully installed elements-3.18.2 google-api-core-2.24.0 google-auth-2.37.0 google-cloud-core-2.4.1 google-cloud-storage-2.19.0 google-crc32c-1.6.0 google-resumable-media-2.7.2 googleapis-common-protos-1.66.0 proto-plus-1.25.0 pyasn1-0.6.1 pyasn1-modules-0.4.1 rsa-4.9 ruamel.yaml-0.18.10 ruamel.yaml.clib-0.2.12\n",
      "\u001b[33mWARNING: Running pip as the 'root' user can result in broken permissions and conflicting behaviour with the system package manager, possibly rendering your system unusable.It is recommended to use a virtual environment instead: https://pip.pypa.io/warnings/venv. Use the --root-user-action option if you know what you are doing and want to suppress this warning.\u001b[0m\u001b[33m\n",
      "\u001b[0m\n",
      "\u001b[1m[\u001b[0m\u001b[34;49mnotice\u001b[0m\u001b[1;39;49m]\u001b[0m\u001b[39;49m A new release of pip is available: \u001b[0m\u001b[31;49m24.2\u001b[0m\u001b[39;49m -> \u001b[0m\u001b[32;49m24.3.1\u001b[0m\n",
      "\u001b[1m[\u001b[0m\u001b[34;49mnotice\u001b[0m\u001b[1;39;49m]\u001b[0m\u001b[39;49m To update, run: \u001b[0m\u001b[32;49mpython -m pip install --upgrade pip\u001b[0m\n",
      "Looking in indexes: https://pypi.org/simple, https://pypi.ngc.nvidia.com\n",
      "Collecting ninjax\n",
      "  Downloading ninjax-3.5.1.tar.gz (17 kB)\n",
      "  Installing build dependencies ... \u001b[?25ldone\n",
      "\u001b[?25h  Getting requirements to build wheel ... \u001b[?25ldone\n",
      "\u001b[?25h  Preparing metadata (pyproject.toml) ... \u001b[?25ldone\n",
      "\u001b[?25hCollecting jax (from ninjax)\n",
      "  Downloading jax-0.5.0-py3-none-any.whl.metadata (22 kB)\n",
      "Collecting jaxlib<=0.5.0,>=0.5.0 (from jax->ninjax)\n",
      "  Downloading jaxlib-0.5.0-cp310-cp310-manylinux2014_x86_64.whl.metadata (978 bytes)\n",
      "Collecting ml_dtypes>=0.4.0 (from jax->ninjax)\n",
      "  Downloading ml_dtypes-0.5.1-cp310-cp310-manylinux_2_17_x86_64.manylinux2014_x86_64.whl.metadata (21 kB)\n",
      "Collecting numpy>=1.25 (from jax->ninjax)\n",
      "  Downloading numpy-2.2.2-cp310-cp310-manylinux_2_17_x86_64.manylinux2014_x86_64.whl.metadata (62 kB)\n",
      "Requirement already satisfied: opt_einsum in /usr/local/lib/python3.10/dist-packages/opt_einsum-3.4.0-py3.10.egg (from jax->ninjax) (3.4.0)\n",
      "Requirement already satisfied: scipy>=1.11.1 in /usr/local/lib/python3.10/dist-packages (from jax->ninjax) (1.14.0)\n",
      "Downloading jax-0.5.0-py3-none-any.whl (2.3 MB)\n",
      "\u001b[2K   \u001b[90m━━━━━━━━━━━━━━━━━━━━━━━━━━━━━━━━━━━━━━━━\u001b[0m \u001b[32m2.3/2.3 MB\u001b[0m \u001b[31m323.6 MB/s\u001b[0m eta \u001b[36m0:00:00\u001b[0m\n",
      "\u001b[?25hDownloading jaxlib-0.5.0-cp310-cp310-manylinux2014_x86_64.whl (102.0 MB)\n",
      "\u001b[2K   \u001b[90m━━━━━━━━━━━━━━━━━━━━━━━━━━━━━━━━━━━━━━━━\u001b[0m \u001b[32m102.0/102.0 MB\u001b[0m \u001b[31m99.5 MB/s\u001b[0m eta \u001b[36m0:00:00\u001b[0m00:01\u001b[0m00:01\u001b[0m\n",
      "\u001b[?25hDownloading ml_dtypes-0.5.1-cp310-cp310-manylinux_2_17_x86_64.manylinux2014_x86_64.whl (4.7 MB)\n",
      "\u001b[2K   \u001b[90m━━━━━━━━━━━━━━━━━━━━━━━━━━━━━━━━━━━━━━━━\u001b[0m \u001b[32m4.7/4.7 MB\u001b[0m \u001b[31m453.3 MB/s\u001b[0m eta \u001b[36m0:00:00\u001b[0m\n",
      "\u001b[?25hDownloading numpy-2.2.2-cp310-cp310-manylinux_2_17_x86_64.manylinux2014_x86_64.whl (16.4 MB)\n",
      "\u001b[2K   \u001b[90m━━━━━━━━━━━━━━━━━━━━━━━━━━━━━━━━━━━━━━━━\u001b[0m \u001b[32m16.4/16.4 MB\u001b[0m \u001b[31m485.6 MB/s\u001b[0m eta \u001b[36m0:00:00\u001b[0m\n",
      "\u001b[?25hBuilding wheels for collected packages: ninjax\n",
      "  Building wheel for ninjax (pyproject.toml) ... \u001b[?25ldone\n",
      "\u001b[?25h  Created wheel for ninjax: filename=ninjax-3.5.1-py3-none-any.whl size=11469 sha256=820873fde534c24e267c04cdd00f006c23344d7c57f9b4ab22367b35c33f2295\n",
      "  Stored in directory: /tmp/pip-ephem-wheel-cache-9qxihtwf/wheels/9e/43/4f/e8b4062f1fa0fd2c68c447edf3d7561d17c75cd6ceb86e30a7\n",
      "Successfully built ninjax\n",
      "Installing collected packages: numpy, ml_dtypes, jaxlib, jax, ninjax\n",
      "  Attempting uninstall: numpy\n",
      "    Found existing installation: numpy 1.24.4\n",
      "    Uninstalling numpy-1.24.4:\n",
      "      Successfully uninstalled numpy-1.24.4\n",
      "\u001b[31mERROR: pip's dependency resolver does not currently take into account all the packages that are installed. This behaviour is the source of the following dependency conflicts.\n",
      "cudf 24.8.0 requires numpy<2.0a0,>=1.23, but you have numpy 2.2.2 which is incompatible.\n",
      "cugraph 24.8.0 requires numpy<2.0a0,>=1.23, but you have numpy 2.2.2 which is incompatible.\n",
      "cugraph-dgl 24.8.0 requires numpy<2.0a0,>=1.23, but you have numpy 2.2.2 which is incompatible.\n",
      "cugraph-pyg 24.8.0 requires numpy<2.0a0,>=1.23, but you have numpy 2.2.2 which is incompatible.\n",
      "cugraph-service-server 24.8.0 requires numpy<2.0a0,>=1.23, but you have numpy 2.2.2 which is incompatible.\n",
      "dask-cuda 24.8.0 requires numpy<2.0a0,>=1.23, but you have numpy 2.2.2 which is incompatible.\n",
      "dask-cudf 24.8.0 requires numpy<2.0a0,>=1.23, but you have numpy 2.2.2 which is incompatible.\n",
      "kvikio 24.8.0 requires numpy<2.0a0,>=1.23, but you have numpy 2.2.2 which is incompatible.\n",
      "numba 0.60.0 requires numpy<2.1,>=1.22, but you have numpy 2.2.2 which is incompatible.\n",
      "nvidia-modelopt 0.17.0 requires numpy<2, but you have numpy 2.2.2 which is incompatible.\n",
      "nx-cugraph 24.8.0 requires numpy<2.0a0,>=1.23, but you have numpy 2.2.2 which is incompatible.\n",
      "pylibraft 24.8.0 requires numpy<2.0a0,>=1.23, but you have numpy 2.2.2 which is incompatible.\n",
      "raft-dask 24.8.0 requires numpy<2.0a0,>=1.23, but you have numpy 2.2.2 which is incompatible.\n",
      "rmm 24.8.0 requires numpy<2.0a0,>=1.23, but you have numpy 2.2.2 which is incompatible.\n",
      "rmm-cu12 24.8.2 requires numpy<2.0a0,>=1.23, but you have numpy 2.2.2 which is incompatible.\n",
      "thinc 8.2.5 requires numpy<2.0.0,>=1.19.0; python_version >= \"3.9\", but you have numpy 2.2.2 which is incompatible.\n",
      "ucx-py 0.39.0 requires numpy<2.0a0,>=1.23, but you have numpy 2.2.2 which is incompatible.\n",
      "ucxx 0.39.0 requires numpy<2.0a0,>=1.23, but you have numpy 2.2.2 which is incompatible.\n",
      "lightning-thunder 0.2.0.dev0 requires numpy<2,>=1.23.0, but you have numpy 2.2.2 which is incompatible.\u001b[0m\u001b[31m\n",
      "\u001b[0mSuccessfully installed jax-0.5.0 jaxlib-0.5.0 ml_dtypes-0.5.1 ninjax-3.5.1 numpy-2.2.2\n",
      "\u001b[33mWARNING: Running pip as the 'root' user can result in broken permissions and conflicting behaviour with the system package manager, possibly rendering your system unusable.It is recommended to use a virtual environment instead: https://pip.pypa.io/warnings/venv. Use the --root-user-action option if you know what you are doing and want to suppress this warning.\u001b[0m\u001b[33m\n",
      "\u001b[0m\n",
      "\u001b[1m[\u001b[0m\u001b[34;49mnotice\u001b[0m\u001b[1;39;49m]\u001b[0m\u001b[39;49m A new release of pip is available: \u001b[0m\u001b[31;49m24.2\u001b[0m\u001b[39;49m -> \u001b[0m\u001b[32;49m24.3.1\u001b[0m\n",
      "\u001b[1m[\u001b[0m\u001b[34;49mnotice\u001b[0m\u001b[1;39;49m]\u001b[0m\u001b[39;49m To update, run: \u001b[0m\u001b[32;49mpython -m pip install --upgrade pip\u001b[0m\n",
      "Looking in indexes: https://pypi.org/simple, https://pypi.ngc.nvidia.com\n",
      "Collecting crafter\n",
      "  Downloading crafter-1.8.3.tar.gz (107 kB)\n",
      "  Preparing metadata (setup.py) ... \u001b[?25ldone\n",
      "\u001b[?25hRequirement already satisfied: numpy in /usr/local/lib/python3.10/dist-packages (from crafter) (2.2.2)\n",
      "Requirement already satisfied: imageio in /usr/local/lib/python3.10/dist-packages (from crafter) (2.34.1)\n",
      "Requirement already satisfied: pillow in /usr/local/lib/python3.10/dist-packages (from crafter) (10.4.0)\n",
      "Collecting opensimplex (from crafter)\n",
      "  Downloading opensimplex-0.4.5.1-py3-none-any.whl.metadata (10 kB)\n",
      "Requirement already satisfied: ruamel.yaml in /usr/local/lib/python3.10/dist-packages (from crafter) (0.18.10)\n",
      "Requirement already satisfied: ruamel.yaml.clib>=0.2.7 in /usr/local/lib/python3.10/dist-packages (from ruamel.yaml->crafter) (0.2.12)\n",
      "Downloading opensimplex-0.4.5.1-py3-none-any.whl (267 kB)\n",
      "Building wheels for collected packages: crafter\n",
      "  Building wheel for crafter (setup.py) ... \u001b[?25ldone\n",
      "\u001b[?25h  Created wheel for crafter: filename=crafter-1.8.3-py3-none-any.whl size=143998 sha256=9429a2d1aec243c609982c4fc4f24be083c75822096b5cd3beada02abe53c791\n",
      "  Stored in directory: /tmp/pip-ephem-wheel-cache-w7ph658f/wheels/d3/54/5b/2e3e2fe888213446afd9b4648afc51ce12137d92b79bc96bee\n",
      "Successfully built crafter\n",
      "Installing collected packages: opensimplex, crafter\n",
      "Successfully installed crafter-1.8.3 opensimplex-0.4.5.1\n",
      "\u001b[33mWARNING: Running pip as the 'root' user can result in broken permissions and conflicting behaviour with the system package manager, possibly rendering your system unusable.It is recommended to use a virtual environment instead: https://pip.pypa.io/warnings/venv. Use the --root-user-action option if you know what you are doing and want to suppress this warning.\u001b[0m\u001b[33m\n",
      "\u001b[0m\n",
      "\u001b[1m[\u001b[0m\u001b[34;49mnotice\u001b[0m\u001b[1;39;49m]\u001b[0m\u001b[39;49m A new release of pip is available: \u001b[0m\u001b[31;49m24.2\u001b[0m\u001b[39;49m -> \u001b[0m\u001b[32;49m24.3.1\u001b[0m\n",
      "\u001b[1m[\u001b[0m\u001b[34;49mnotice\u001b[0m\u001b[1;39;49m]\u001b[0m\u001b[39;49m To update, run: \u001b[0m\u001b[32;49mpython -m pip install --upgrade pip\u001b[0m\n",
      "Looking in indexes: https://pypi.org/simple, https://pypi.ngc.nvidia.com\n",
      "Requirement already satisfied: jax in /usr/local/lib/python3.10/dist-packages (0.5.0)\n",
      "Requirement already satisfied: jaxlib<=0.5.0,>=0.5.0 in /usr/local/lib/python3.10/dist-packages (from jax) (0.5.0)\n",
      "Requirement already satisfied: ml_dtypes>=0.4.0 in /usr/local/lib/python3.10/dist-packages (from jax) (0.5.1)\n",
      "Requirement already satisfied: numpy>=1.25 in /usr/local/lib/python3.10/dist-packages (from jax) (2.2.2)\n",
      "Requirement already satisfied: opt_einsum in /usr/local/lib/python3.10/dist-packages/opt_einsum-3.4.0-py3.10.egg (from jax) (3.4.0)\n",
      "Requirement already satisfied: scipy>=1.11.1 in /usr/local/lib/python3.10/dist-packages (from jax) (1.14.0)\n",
      "\u001b[33mWARNING: Running pip as the 'root' user can result in broken permissions and conflicting behaviour with the system package manager, possibly rendering your system unusable.It is recommended to use a virtual environment instead: https://pip.pypa.io/warnings/venv. Use the --root-user-action option if you know what you are doing and want to suppress this warning.\u001b[0m\u001b[33m\n",
      "\u001b[0m\n",
      "\u001b[1m[\u001b[0m\u001b[34;49mnotice\u001b[0m\u001b[1;39;49m]\u001b[0m\u001b[39;49m A new release of pip is available: \u001b[0m\u001b[31;49m24.2\u001b[0m\u001b[39;49m -> \u001b[0m\u001b[32;49m24.3.1\u001b[0m\n",
      "\u001b[1m[\u001b[0m\u001b[34;49mnotice\u001b[0m\u001b[1;39;49m]\u001b[0m\u001b[39;49m To update, run: \u001b[0m\u001b[32;49mpython -m pip install --upgrade pip\u001b[0m\n",
      "Looking in indexes: https://pypi.org/simple, https://pypi.ngc.nvidia.com\n",
      "Collecting ale-py\n",
      "  Downloading ale_py-0.10.1-cp310-cp310-manylinux_2_17_x86_64.manylinux2014_x86_64.whl.metadata (7.6 kB)\n",
      "Requirement already satisfied: numpy>1.20 in /usr/local/lib/python3.10/dist-packages (from ale-py) (2.2.2)\n",
      "Requirement already satisfied: typing-extensions in /usr/local/lib/python3.10/dist-packages (from ale-py) (4.12.2)\n",
      "Downloading ale_py-0.10.1-cp310-cp310-manylinux_2_17_x86_64.manylinux2014_x86_64.whl (2.1 MB)\n",
      "\u001b[2K   \u001b[90m━━━━━━━━━━━━━━━━━━━━━━━━━━━━━━━━━━━━━━━━\u001b[0m \u001b[32m2.1/2.1 MB\u001b[0m \u001b[31m257.1 MB/s\u001b[0m eta \u001b[36m0:00:00\u001b[0m\n",
      "\u001b[?25hInstalling collected packages: ale-py\n",
      "Successfully installed ale-py-0.10.1\n",
      "\u001b[33mWARNING: Running pip as the 'root' user can result in broken permissions and conflicting behaviour with the system package manager, possibly rendering your system unusable.It is recommended to use a virtual environment instead: https://pip.pypa.io/warnings/venv. Use the --root-user-action option if you know what you are doing and want to suppress this warning.\u001b[0m\u001b[33m\n",
      "\u001b[0m\n",
      "\u001b[1m[\u001b[0m\u001b[34;49mnotice\u001b[0m\u001b[1;39;49m]\u001b[0m\u001b[39;49m A new release of pip is available: \u001b[0m\u001b[31;49m24.2\u001b[0m\u001b[39;49m -> \u001b[0m\u001b[32;49m24.3.1\u001b[0m\n",
      "\u001b[1m[\u001b[0m\u001b[34;49mnotice\u001b[0m\u001b[1;39;49m]\u001b[0m\u001b[39;49m To update, run: \u001b[0m\u001b[32;49mpython -m pip install --upgrade pip\u001b[0m\n"
     ]
    }
   ],
   "source": [
    "!pip install elements\n",
    "!pip install ninjax\n",
    "!pip install crafter\n",
    "!pip install jax\n",
    "!pip install ale-py"
   ]
  },
  {
   "cell_type": "code",
   "execution_count": 2,
   "metadata": {
    "colab": {
     "base_uri": "https://localhost:8080/"
    },
    "id": "bjpLSnKgDyeC",
    "outputId": "19f083d8-3d98-4554-cdc4-ea8203ebdf52"
   },
   "outputs": [
    {
     "name": "stdout",
     "output_type": "stream",
     "text": [
      "Looking in indexes: https://pypi.org/simple, https://pypi.ngc.nvidia.com\n",
      "Collecting av (from -r ../dreamerv3/requirements.txt (line 1))\n",
      "  Downloading av-14.0.1-cp310-cp310-manylinux_2_17_x86_64.manylinux2014_x86_64.whl.metadata (4.5 kB)\n",
      "Collecting chex (from -r ../dreamerv3/requirements.txt (line 2))\n",
      "  Downloading chex-0.1.88-py3-none-any.whl.metadata (17 kB)\n",
      "Collecting colored_traceback (from -r ../dreamerv3/requirements.txt (line 3))\n",
      "  Downloading colored_traceback-0.4.2-py3-none-any.whl.metadata (4.6 kB)\n",
      "Requirement already satisfied: einops in /usr/local/lib/python3.10/dist-packages (from -r ../dreamerv3/requirements.txt (line 4)) (0.8.0)\n",
      "Requirement already satisfied: elements>=3.18.1 in /usr/local/lib/python3.10/dist-packages (from -r ../dreamerv3/requirements.txt (line 5)) (3.18.2)\n",
      "Requirement already satisfied: google-resumable-media>=2.7.2 in /usr/local/lib/python3.10/dist-packages (from -r ../dreamerv3/requirements.txt (line 6)) (2.7.2)\n",
      "Collecting granular>=0.20.3 (from -r ../dreamerv3/requirements.txt (line 7))\n",
      "  Downloading granular-0.21.0.tar.gz (22 kB)\n",
      "  Installing build dependencies ... \u001b[?25ldone\n",
      "\u001b[?25h  Getting requirements to build wheel ... \u001b[?25ldone\n",
      "\u001b[?25h  Preparing metadata (pyproject.toml) ... \u001b[?25ldone\n",
      "\u001b[?25hCollecting ipdb (from -r ../dreamerv3/requirements.txt (line 8))\n",
      "  Downloading ipdb-0.13.13-py3-none-any.whl.metadata (14 kB)\n",
      "Collecting jax==0.4.33 (from jax[cuda12]==0.4.33->-r ../dreamerv3/requirements.txt (line 9))\n",
      "  Downloading jax-0.4.33-py3-none-any.whl.metadata (22 kB)\n",
      "Collecting jaxtyping (from -r ../dreamerv3/requirements.txt (line 10))\n",
      "  Downloading jaxtyping-0.2.36-py3-none-any.whl.metadata (6.5 kB)\n",
      "Requirement already satisfied: ninjax>=3.5.1 in /usr/local/lib/python3.10/dist-packages (from -r ../dreamerv3/requirements.txt (line 11)) (3.5.1)\n",
      "Collecting numpy<2 (from -r ../dreamerv3/requirements.txt (line 12))\n",
      "  Downloading numpy-1.26.4-cp310-cp310-manylinux_2_17_x86_64.manylinux2014_x86_64.whl.metadata (61 kB)\n",
      "Collecting nvidia-cuda-nvcc-cu12<=12.2 (from -r ../dreamerv3/requirements.txt (line 13))\n",
      "  Downloading nvidia_cuda_nvcc_cu12-12.1.105-py3-none-manylinux1_x86_64.whl.metadata (1.5 kB)\n",
      "Collecting optax (from -r ../dreamerv3/requirements.txt (line 14))\n",
      "  Downloading optax-0.2.4-py3-none-any.whl.metadata (8.3 kB)\n",
      "Collecting portal>=3.5.0 (from -r ../dreamerv3/requirements.txt (line 15))\n",
      "  Downloading portal-3.5.1.tar.gz (27 kB)\n",
      "  Installing build dependencies ... \u001b[?25ldone\n",
      "\u001b[?25h  Getting requirements to build wheel ... \u001b[?25ldone\n",
      "\u001b[?25h  Preparing metadata (pyproject.toml) ... \u001b[?25ldone\n",
      "\u001b[?25hCollecting scope>=0.4.4 (from -r ../dreamerv3/requirements.txt (line 16))\n",
      "  Downloading scope-0.5.2.tar.gz (490 kB)\n",
      "  Preparing metadata (setup.py) ... \u001b[?25ldone\n",
      "\u001b[?25hRequirement already satisfied: tqdm in /usr/local/lib/python3.10/dist-packages (from -r ../dreamerv3/requirements.txt (line 17)) (4.66.5)\n",
      "Collecting tqdm (from -r ../dreamerv3/requirements.txt (line 17))\n",
      "  Downloading tqdm-4.67.1-py3-none-any.whl.metadata (57 kB)\n",
      "Collecting jaxlib<=0.4.33,>=0.4.33 (from jax==0.4.33->jax[cuda12]==0.4.33->-r ../dreamerv3/requirements.txt (line 9))\n",
      "  Downloading jaxlib-0.4.33-cp310-cp310-manylinux2014_x86_64.whl.metadata (983 bytes)\n",
      "Requirement already satisfied: ml-dtypes>=0.2.0 in /usr/local/lib/python3.10/dist-packages (from jax==0.4.33->jax[cuda12]==0.4.33->-r ../dreamerv3/requirements.txt (line 9)) (0.5.1)\n",
      "Requirement already satisfied: opt-einsum in /usr/local/lib/python3.10/dist-packages/opt_einsum-3.4.0-py3.10.egg (from jax==0.4.33->jax[cuda12]==0.4.33->-r ../dreamerv3/requirements.txt (line 9)) (3.4.0)\n",
      "Requirement already satisfied: scipy>=1.10 in /usr/local/lib/python3.10/dist-packages (from jax==0.4.33->jax[cuda12]==0.4.33->-r ../dreamerv3/requirements.txt (line 9)) (1.14.0)\n",
      "Collecting jax-cuda12-plugin<=0.4.33,>=0.4.33 (from jax-cuda12-plugin[with_cuda]<=0.4.33,>=0.4.33; extra == \"cuda12\"->jax[cuda12]==0.4.33->-r ../dreamerv3/requirements.txt (line 9))\n",
      "  Downloading jax_cuda12_plugin-0.4.33-cp310-cp310-manylinux2014_x86_64.whl.metadata (1.2 kB)\n",
      "Requirement already satisfied: absl-py>=0.9.0 in /usr/local/lib/python3.10/dist-packages (from chex->-r ../dreamerv3/requirements.txt (line 2)) (2.1.0)\n",
      "Requirement already satisfied: typing_extensions>=4.2.0 in /usr/local/lib/python3.10/dist-packages (from chex->-r ../dreamerv3/requirements.txt (line 2)) (4.12.2)\n",
      "Requirement already satisfied: toolz>=0.9.0 in /usr/local/lib/python3.10/dist-packages (from chex->-r ../dreamerv3/requirements.txt (line 2)) (0.12.1)\n",
      "Requirement already satisfied: pygments in /usr/local/lib/python3.10/dist-packages (from colored_traceback->-r ../dreamerv3/requirements.txt (line 3)) (2.18.0)\n",
      "Requirement already satisfied: google-auth in /usr/local/lib/python3.10/dist-packages (from elements>=3.18.1->-r ../dreamerv3/requirements.txt (line 5)) (2.37.0)\n",
      "Requirement already satisfied: google-cloud-storage in /usr/local/lib/python3.10/dist-packages (from elements>=3.18.1->-r ../dreamerv3/requirements.txt (line 5)) (2.19.0)\n",
      "Requirement already satisfied: psutil in /usr/local/lib/python3.10/dist-packages (from elements>=3.18.1->-r ../dreamerv3/requirements.txt (line 5)) (6.0.0)\n",
      "Requirement already satisfied: ruamel.yaml in /usr/local/lib/python3.10/dist-packages (from elements>=3.18.1->-r ../dreamerv3/requirements.txt (line 5)) (0.18.10)\n",
      "Requirement already satisfied: google-crc32c<2.0dev,>=1.0 in /usr/local/lib/python3.10/dist-packages (from google-resumable-media>=2.7.2->-r ../dreamerv3/requirements.txt (line 6)) (1.6.0)\n",
      "Requirement already satisfied: cloudpickle in /usr/local/lib/python3.10/dist-packages (from granular>=0.20.3->-r ../dreamerv3/requirements.txt (line 7)) (3.0.0)\n",
      "Requirement already satisfied: msgpack in /usr/local/lib/python3.10/dist-packages (from granular>=0.20.3->-r ../dreamerv3/requirements.txt (line 7)) (1.0.8)\n",
      "Requirement already satisfied: ipython>=7.31.1 in /usr/local/lib/python3.10/dist-packages (from ipdb->-r ../dreamerv3/requirements.txt (line 8)) (8.28.0)\n",
      "Requirement already satisfied: tomli in /usr/local/lib/python3.10/dist-packages (from ipdb->-r ../dreamerv3/requirements.txt (line 8)) (2.0.2)\n",
      "Requirement already satisfied: decorator in /usr/local/lib/python3.10/dist-packages (from ipdb->-r ../dreamerv3/requirements.txt (line 8)) (5.1.1)\n",
      "Collecting etils[epy] (from optax->-r ../dreamerv3/requirements.txt (line 14))\n",
      "  Downloading etils-1.11.0-py3-none-any.whl.metadata (6.5 kB)\n",
      "Collecting fastapi (from scope>=0.4.4->-r ../dreamerv3/requirements.txt (line 16))\n",
      "  Downloading fastapi-0.115.6-py3-none-any.whl.metadata (27 kB)\n",
      "Requirement already satisfied: pillow in /usr/local/lib/python3.10/dist-packages (from scope>=0.4.4->-r ../dreamerv3/requirements.txt (line 16)) (10.4.0)\n",
      "Collecting uvicorn[standard] (from scope>=0.4.4->-r ../dreamerv3/requirements.txt (line 16))\n",
      "  Downloading uvicorn-0.34.0-py3-none-any.whl.metadata (6.5 kB)\n",
      "Requirement already satisfied: jedi>=0.16 in /usr/local/lib/python3.10/dist-packages (from ipython>=7.31.1->ipdb->-r ../dreamerv3/requirements.txt (line 8)) (0.19.1)\n",
      "Requirement already satisfied: matplotlib-inline in /usr/local/lib/python3.10/dist-packages (from ipython>=7.31.1->ipdb->-r ../dreamerv3/requirements.txt (line 8)) (0.1.7)\n",
      "Requirement already satisfied: prompt-toolkit<3.1.0,>=3.0.41 in /usr/local/lib/python3.10/dist-packages (from ipython>=7.31.1->ipdb->-r ../dreamerv3/requirements.txt (line 8)) (3.0.48)\n",
      "Requirement already satisfied: stack-data in /usr/local/lib/python3.10/dist-packages (from ipython>=7.31.1->ipdb->-r ../dreamerv3/requirements.txt (line 8)) (0.6.3)\n",
      "Requirement already satisfied: traitlets>=5.13.0 in /usr/local/lib/python3.10/dist-packages (from ipython>=7.31.1->ipdb->-r ../dreamerv3/requirements.txt (line 8)) (5.14.3)\n",
      "Requirement already satisfied: exceptiongroup in /usr/local/lib/python3.10/dist-packages (from ipython>=7.31.1->ipdb->-r ../dreamerv3/requirements.txt (line 8)) (1.2.2)\n",
      "Requirement already satisfied: pexpect>4.3 in /usr/local/lib/python3.10/dist-packages (from ipython>=7.31.1->ipdb->-r ../dreamerv3/requirements.txt (line 8)) (4.9.0)\n",
      "Collecting jax-cuda12-pjrt==0.4.33 (from jax-cuda12-plugin<=0.4.33,>=0.4.33->jax-cuda12-plugin[with_cuda]<=0.4.33,>=0.4.33; extra == \"cuda12\"->jax[cuda12]==0.4.33->-r ../dreamerv3/requirements.txt (line 9))\n",
      "  Downloading jax_cuda12_pjrt-0.4.33-py3-none-manylinux2014_x86_64.whl.metadata (349 bytes)\n",
      "Collecting nvidia-cublas-cu12>=12.1.3.1 (from jax-cuda12-plugin[with_cuda]<=0.4.33,>=0.4.33; extra == \"cuda12\"->jax[cuda12]==0.4.33->-r ../dreamerv3/requirements.txt (line 9))\n",
      "  Downloading nvidia_cublas_cu12-12.6.4.1-py3-none-manylinux2014_x86_64.manylinux_2_17_x86_64.whl.metadata (1.5 kB)\n",
      "Collecting nvidia-cuda-cupti-cu12>=12.1.105 (from jax-cuda12-plugin[with_cuda]<=0.4.33,>=0.4.33; extra == \"cuda12\"->jax[cuda12]==0.4.33->-r ../dreamerv3/requirements.txt (line 9))\n",
      "  Downloading nvidia_cuda_cupti_cu12-12.6.80-py3-none-manylinux2014_x86_64.manylinux_2_17_x86_64.whl.metadata (1.6 kB)\n",
      "Collecting nvidia-cuda-runtime-cu12>=12.1.105 (from jax-cuda12-plugin[with_cuda]<=0.4.33,>=0.4.33; extra == \"cuda12\"->jax[cuda12]==0.4.33->-r ../dreamerv3/requirements.txt (line 9))\n",
      "  Downloading nvidia_cuda_runtime_cu12-12.6.77-py3-none-manylinux2014_x86_64.manylinux_2_17_x86_64.whl.metadata (1.5 kB)\n",
      "Collecting nvidia-cudnn-cu12<10.0,>=9.1 (from jax-cuda12-plugin[with_cuda]<=0.4.33,>=0.4.33; extra == \"cuda12\"->jax[cuda12]==0.4.33->-r ../dreamerv3/requirements.txt (line 9))\n",
      "  Downloading nvidia_cudnn_cu12-9.6.0.74-py3-none-manylinux_2_27_x86_64.whl.metadata (1.6 kB)\n",
      "Collecting nvidia-cufft-cu12>=11.0.2.54 (from jax-cuda12-plugin[with_cuda]<=0.4.33,>=0.4.33; extra == \"cuda12\"->jax[cuda12]==0.4.33->-r ../dreamerv3/requirements.txt (line 9))\n",
      "  Downloading nvidia_cufft_cu12-11.3.0.4-py3-none-manylinux2014_x86_64.manylinux_2_17_x86_64.whl.metadata (1.5 kB)\n",
      "Collecting nvidia-cusolver-cu12>=11.4.5.107 (from jax-cuda12-plugin[with_cuda]<=0.4.33,>=0.4.33; extra == \"cuda12\"->jax[cuda12]==0.4.33->-r ../dreamerv3/requirements.txt (line 9))\n",
      "  Downloading nvidia_cusolver_cu12-11.7.1.2-py3-none-manylinux2014_x86_64.manylinux_2_17_x86_64.whl.metadata (1.6 kB)\n",
      "Collecting nvidia-cusparse-cu12>=12.1.0.106 (from jax-cuda12-plugin[with_cuda]<=0.4.33,>=0.4.33; extra == \"cuda12\"->jax[cuda12]==0.4.33->-r ../dreamerv3/requirements.txt (line 9))\n",
      "  Downloading nvidia_cusparse_cu12-12.5.4.2-py3-none-manylinux2014_x86_64.manylinux_2_17_x86_64.whl.metadata (1.6 kB)\n",
      "Requirement already satisfied: nvidia-nccl-cu12>=2.18.1 in /usr/local/lib/python3.10/dist-packages (from jax-cuda12-plugin[with_cuda]<=0.4.33,>=0.4.33; extra == \"cuda12\"->jax[cuda12]==0.4.33->-r ../dreamerv3/requirements.txt (line 9)) (2.22.3)\n",
      "Collecting nvidia-nvjitlink-cu12>=12.1.105 (from jax-cuda12-plugin[with_cuda]<=0.4.33,>=0.4.33; extra == \"cuda12\"->jax[cuda12]==0.4.33->-r ../dreamerv3/requirements.txt (line 9))\n",
      "  Downloading nvidia_nvjitlink_cu12-12.6.85-py3-none-manylinux2010_x86_64.manylinux_2_12_x86_64.whl.metadata (1.5 kB)\n",
      "Collecting starlette<0.42.0,>=0.40.0 (from fastapi->scope>=0.4.4->-r ../dreamerv3/requirements.txt (line 16))\n",
      "  Downloading starlette-0.41.3-py3-none-any.whl.metadata (6.0 kB)\n",
      "Requirement already satisfied: pydantic!=1.8,!=1.8.1,!=2.0.0,!=2.0.1,!=2.1.0,<3.0.0,>=1.7.4 in /usr/local/lib/python3.10/dist-packages (from fastapi->scope>=0.4.4->-r ../dreamerv3/requirements.txt (line 16)) (2.9.2)\n",
      "Requirement already satisfied: cachetools<6.0,>=2.0.0 in /usr/local/lib/python3.10/dist-packages (from google-auth->elements>=3.18.1->-r ../dreamerv3/requirements.txt (line 5)) (5.5.0)\n",
      "Requirement already satisfied: pyasn1-modules>=0.2.1 in /usr/local/lib/python3.10/dist-packages (from google-auth->elements>=3.18.1->-r ../dreamerv3/requirements.txt (line 5)) (0.4.1)\n",
      "Requirement already satisfied: rsa<5,>=3.1.4 in /usr/local/lib/python3.10/dist-packages (from google-auth->elements>=3.18.1->-r ../dreamerv3/requirements.txt (line 5)) (4.9)\n",
      "Requirement already satisfied: google-api-core<3.0.0dev,>=2.15.0 in /usr/local/lib/python3.10/dist-packages (from google-cloud-storage->elements>=3.18.1->-r ../dreamerv3/requirements.txt (line 5)) (2.24.0)\n",
      "Requirement already satisfied: google-cloud-core<3.0dev,>=2.3.0 in /usr/local/lib/python3.10/dist-packages (from google-cloud-storage->elements>=3.18.1->-r ../dreamerv3/requirements.txt (line 5)) (2.4.1)\n",
      "Requirement already satisfied: requests<3.0.0dev,>=2.18.0 in /usr/local/lib/python3.10/dist-packages (from google-cloud-storage->elements>=3.18.1->-r ../dreamerv3/requirements.txt (line 5)) (2.32.3)\n",
      "Requirement already satisfied: ruamel.yaml.clib>=0.2.7 in /usr/local/lib/python3.10/dist-packages (from ruamel.yaml->elements>=3.18.1->-r ../dreamerv3/requirements.txt (line 5)) (0.2.12)\n",
      "Requirement already satisfied: click>=7.0 in /usr/local/lib/python3.10/dist-packages (from uvicorn[standard]->scope>=0.4.4->-r ../dreamerv3/requirements.txt (line 16)) (8.1.7)\n",
      "Requirement already satisfied: h11>=0.8 in /usr/local/lib/python3.10/dist-packages (from uvicorn[standard]->scope>=0.4.4->-r ../dreamerv3/requirements.txt (line 16)) (0.14.0)\n",
      "Collecting httptools>=0.6.3 (from uvicorn[standard]->scope>=0.4.4->-r ../dreamerv3/requirements.txt (line 16))\n",
      "  Downloading httptools-0.6.4-cp310-cp310-manylinux_2_5_x86_64.manylinux1_x86_64.manylinux_2_17_x86_64.manylinux2014_x86_64.whl.metadata (3.6 kB)\n",
      "Collecting python-dotenv>=0.13 (from uvicorn[standard]->scope>=0.4.4->-r ../dreamerv3/requirements.txt (line 16))\n",
      "  Downloading python_dotenv-1.0.1-py3-none-any.whl.metadata (23 kB)\n",
      "Requirement already satisfied: pyyaml>=5.1 in /usr/local/lib/python3.10/dist-packages (from uvicorn[standard]->scope>=0.4.4->-r ../dreamerv3/requirements.txt (line 16)) (6.0.2)\n",
      "Collecting uvloop!=0.15.0,!=0.15.1,>=0.14.0 (from uvicorn[standard]->scope>=0.4.4->-r ../dreamerv3/requirements.txt (line 16))\n",
      "  Downloading uvloop-0.21.0-cp310-cp310-manylinux_2_17_x86_64.manylinux2014_x86_64.whl.metadata (4.9 kB)\n",
      "Collecting watchfiles>=0.13 (from uvicorn[standard]->scope>=0.4.4->-r ../dreamerv3/requirements.txt (line 16))\n",
      "  Downloading watchfiles-1.0.4-cp310-cp310-manylinux_2_17_x86_64.manylinux2014_x86_64.whl.metadata (4.9 kB)\n",
      "Collecting websockets>=10.4 (from uvicorn[standard]->scope>=0.4.4->-r ../dreamerv3/requirements.txt (line 16))\n",
      "  Downloading websockets-14.2-cp310-cp310-manylinux_2_5_x86_64.manylinux1_x86_64.manylinux_2_17_x86_64.manylinux2014_x86_64.whl.metadata (6.8 kB)\n",
      "Requirement already satisfied: googleapis-common-protos<2.0.dev0,>=1.56.2 in /usr/local/lib/python3.10/dist-packages (from google-api-core<3.0.0dev,>=2.15.0->google-cloud-storage->elements>=3.18.1->-r ../dreamerv3/requirements.txt (line 5)) (1.66.0)\n",
      "Requirement already satisfied: protobuf!=3.20.0,!=3.20.1,!=4.21.0,!=4.21.1,!=4.21.2,!=4.21.3,!=4.21.4,!=4.21.5,<6.0.0.dev0,>=3.19.5 in /usr/local/lib/python3.10/dist-packages (from google-api-core<3.0.0dev,>=2.15.0->google-cloud-storage->elements>=3.18.1->-r ../dreamerv3/requirements.txt (line 5)) (4.24.4)\n",
      "Requirement already satisfied: proto-plus<2.0.0dev,>=1.22.3 in /usr/local/lib/python3.10/dist-packages (from google-api-core<3.0.0dev,>=2.15.0->google-cloud-storage->elements>=3.18.1->-r ../dreamerv3/requirements.txt (line 5)) (1.25.0)\n",
      "Requirement already satisfied: parso<0.9.0,>=0.8.3 in /usr/local/lib/python3.10/dist-packages (from jedi>=0.16->ipython>=7.31.1->ipdb->-r ../dreamerv3/requirements.txt (line 8)) (0.8.4)\n",
      "Requirement already satisfied: ptyprocess>=0.5 in /usr/local/lib/python3.10/dist-packages (from pexpect>4.3->ipython>=7.31.1->ipdb->-r ../dreamerv3/requirements.txt (line 8)) (0.7.0)\n",
      "Requirement already satisfied: wcwidth in /usr/local/lib/python3.10/dist-packages (from prompt-toolkit<3.1.0,>=3.0.41->ipython>=7.31.1->ipdb->-r ../dreamerv3/requirements.txt (line 8)) (0.2.13)\n",
      "Requirement already satisfied: pyasn1<0.7.0,>=0.4.6 in /usr/local/lib/python3.10/dist-packages (from pyasn1-modules>=0.2.1->google-auth->elements>=3.18.1->-r ../dreamerv3/requirements.txt (line 5)) (0.6.1)\n",
      "Requirement already satisfied: annotated-types>=0.6.0 in /usr/local/lib/python3.10/dist-packages (from pydantic!=1.8,!=1.8.1,!=2.0.0,!=2.0.1,!=2.1.0,<3.0.0,>=1.7.4->fastapi->scope>=0.4.4->-r ../dreamerv3/requirements.txt (line 16)) (0.7.0)\n",
      "Requirement already satisfied: pydantic-core==2.23.4 in /usr/local/lib/python3.10/dist-packages (from pydantic!=1.8,!=1.8.1,!=2.0.0,!=2.0.1,!=2.1.0,<3.0.0,>=1.7.4->fastapi->scope>=0.4.4->-r ../dreamerv3/requirements.txt (line 16)) (2.23.4)\n",
      "Requirement already satisfied: charset-normalizer<4,>=2 in /usr/local/lib/python3.10/dist-packages (from requests<3.0.0dev,>=2.18.0->google-cloud-storage->elements>=3.18.1->-r ../dreamerv3/requirements.txt (line 5)) (3.3.2)\n",
      "Requirement already satisfied: idna<4,>=2.5 in /usr/local/lib/python3.10/dist-packages (from requests<3.0.0dev,>=2.18.0->google-cloud-storage->elements>=3.18.1->-r ../dreamerv3/requirements.txt (line 5)) (3.7)\n",
      "Requirement already satisfied: urllib3<3,>=1.21.1 in /usr/local/lib/python3.10/dist-packages (from requests<3.0.0dev,>=2.18.0->google-cloud-storage->elements>=3.18.1->-r ../dreamerv3/requirements.txt (line 5)) (2.0.7)\n",
      "Requirement already satisfied: certifi>=2017.4.17 in /usr/local/lib/python3.10/dist-packages (from requests<3.0.0dev,>=2.18.0->google-cloud-storage->elements>=3.18.1->-r ../dreamerv3/requirements.txt (line 5)) (2024.8.30)\n",
      "Requirement already satisfied: anyio<5,>=3.4.0 in /usr/local/lib/python3.10/dist-packages (from starlette<0.42.0,>=0.40.0->fastapi->scope>=0.4.4->-r ../dreamerv3/requirements.txt (line 16)) (4.6.0)\n",
      "Requirement already satisfied: executing>=1.2.0 in /usr/local/lib/python3.10/dist-packages (from stack-data->ipython>=7.31.1->ipdb->-r ../dreamerv3/requirements.txt (line 8)) (2.1.0)\n",
      "Requirement already satisfied: asttokens>=2.1.0 in /usr/local/lib/python3.10/dist-packages (from stack-data->ipython>=7.31.1->ipdb->-r ../dreamerv3/requirements.txt (line 8)) (2.4.1)\n",
      "Requirement already satisfied: pure-eval in /usr/local/lib/python3.10/dist-packages (from stack-data->ipython>=7.31.1->ipdb->-r ../dreamerv3/requirements.txt (line 8)) (0.2.3)\n",
      "Requirement already satisfied: sniffio>=1.1 in /usr/local/lib/python3.10/dist-packages (from anyio<5,>=3.4.0->starlette<0.42.0,>=0.40.0->fastapi->scope>=0.4.4->-r ../dreamerv3/requirements.txt (line 16)) (1.3.1)\n",
      "Requirement already satisfied: six>=1.12.0 in /usr/local/lib/python3.10/dist-packages (from asttokens>=2.1.0->stack-data->ipython>=7.31.1->ipdb->-r ../dreamerv3/requirements.txt (line 8)) (1.16.0)\n",
      "Downloading jax-0.4.33-py3-none-any.whl (2.1 MB)\n",
      "\u001b[2K   \u001b[90m━━━━━━━━━━━━━━━━━━━━━━━━━━━━━━━━━━━━━━━━\u001b[0m \u001b[32m2.1/2.1 MB\u001b[0m \u001b[31m635.1 MB/s\u001b[0m eta \u001b[36m0:00:00\u001b[0m\n",
      "\u001b[?25hDownloading jaxlib-0.4.33-cp310-cp310-manylinux2014_x86_64.whl (85.0 MB)\n",
      "\u001b[2K   \u001b[90m━━━━━━━━━━━━━━━━━━━━━━━━━━━━━━━━━━━━━━━━\u001b[0m \u001b[32m85.0/85.0 MB\u001b[0m \u001b[31m16.8 MB/s\u001b[0m eta \u001b[36m0:00:00\u001b[0ma \u001b[36m0:00:01\u001b[0m\n",
      "\u001b[?25hDownloading av-14.0.1-cp310-cp310-manylinux_2_17_x86_64.manylinux2014_x86_64.whl (33.0 MB)\n",
      "\u001b[2K   \u001b[90m━━━━━━━━━━━━━━━━━━━━━━━━━━━━━━━━━━━━━━━━\u001b[0m \u001b[32m33.0/33.0 MB\u001b[0m \u001b[31m70.8 MB/s\u001b[0m eta \u001b[36m0:00:00\u001b[0ma \u001b[36m0:00:01\u001b[0mm\n",
      "\u001b[?25hDownloading chex-0.1.88-py3-none-any.whl (99 kB)\n",
      "Downloading colored_traceback-0.4.2-py3-none-any.whl (5.5 kB)\n",
      "Downloading ipdb-0.13.13-py3-none-any.whl (12 kB)\n",
      "Downloading jaxtyping-0.2.36-py3-none-any.whl (55 kB)\n",
      "Downloading numpy-1.26.4-cp310-cp310-manylinux_2_17_x86_64.manylinux2014_x86_64.whl (18.2 MB)\n",
      "\u001b[2K   \u001b[90m━━━━━━━━━━━━━━━━━━━━━━━━━━━━━━━━━━━━━━━━\u001b[0m \u001b[32m18.2/18.2 MB\u001b[0m \u001b[31m462.6 MB/s\u001b[0m eta \u001b[36m0:00:00\u001b[0m\n",
      "\u001b[?25hDownloading nvidia_cuda_nvcc_cu12-12.1.105-py3-none-manylinux1_x86_64.whl (20.0 MB)\n",
      "\u001b[2K   \u001b[90m━━━━━━━━━━━━━━━━━━━━━━━━━━━━━━━━━━━━━━━━\u001b[0m \u001b[32m20.0/20.0 MB\u001b[0m \u001b[31m30.5 MB/s\u001b[0m eta \u001b[36m0:00:00\u001b[0ma \u001b[36m0:00:01\u001b[0m\n",
      "\u001b[?25hDownloading optax-0.2.4-py3-none-any.whl (319 kB)\n",
      "Downloading tqdm-4.67.1-py3-none-any.whl (78 kB)\n",
      "Downloading jax_cuda12_plugin-0.4.33-cp310-cp310-manylinux2014_x86_64.whl (14.9 MB)\n",
      "\u001b[2K   \u001b[90m━━━━━━━━━━━━━━━━━━━━━━━━━━━━━━━━━━━━━━━━\u001b[0m \u001b[32m14.9/14.9 MB\u001b[0m \u001b[31m9.0 MB/s\u001b[0m eta \u001b[36m0:00:00\u001b[0ma \u001b[36m0:00:01\u001b[0mm\n",
      "\u001b[?25hDownloading jax_cuda12_pjrt-0.4.33-py3-none-manylinux2014_x86_64.whl (99.7 MB)\n",
      "\u001b[2K   \u001b[90m━━━━━━━━━━━━━━━━━━━━━━━━━━━━━━━━━━━━━━━━\u001b[0m \u001b[32m99.7/99.7 MB\u001b[0m \u001b[31m9.3 MB/s\u001b[0m eta \u001b[36m0:00:00\u001b[0m00:01\u001b[0m00:01\u001b[0mm\n",
      "\u001b[?25hDownloading fastapi-0.115.6-py3-none-any.whl (94 kB)\n",
      "Downloading httptools-0.6.4-cp310-cp310-manylinux_2_5_x86_64.manylinux1_x86_64.manylinux_2_17_x86_64.manylinux2014_x86_64.whl (442 kB)\n",
      "Downloading nvidia_cublas_cu12-12.6.4.1-py3-none-manylinux2014_x86_64.manylinux_2_17_x86_64.whl (393.1 MB)\n",
      "\u001b[2K   \u001b[90m━━━━━━━━━━━━━━━━━━━━━━━━━━━━━━━━━━━━━━━━\u001b[0m \u001b[32m393.1/393.1 MB\u001b[0m \u001b[31m85.2 MB/s\u001b[0m eta \u001b[36m0:00:00\u001b[0ma \u001b[36m0:00:01\u001b[0m\n",
      "\u001b[?25hDownloading nvidia_cuda_cupti_cu12-12.6.80-py3-none-manylinux2014_x86_64.manylinux_2_17_x86_64.whl (8.9 MB)\n",
      "\u001b[2K   \u001b[90m━━━━━━━━━━━━━━━━━━━━━━━━━━━━━━━━━━━━━━━━\u001b[0m \u001b[32m8.9/8.9 MB\u001b[0m \u001b[31m243.1 MB/s\u001b[0m eta \u001b[36m0:00:00\u001b[0m\n",
      "\u001b[?25hDownloading nvidia_cuda_runtime_cu12-12.6.77-py3-none-manylinux2014_x86_64.manylinux_2_17_x86_64.whl (897 kB)\n",
      "\u001b[2K   \u001b[90m━━━━━━━━━━━━━━━━━━━━━━━━━━━━━━━━━━━━━━━\u001b[0m \u001b[32m897.7/897.7 kB\u001b[0m \u001b[31m602.8 MB/s\u001b[0m eta \u001b[36m0:00:00\u001b[0m\n",
      "\u001b[?25hDownloading nvidia_cudnn_cu12-9.6.0.74-py3-none-manylinux_2_27_x86_64.whl (508.1 MB)\n",
      "\u001b[2K   \u001b[90m━━━━━━━━━━━━━━━━━━━━━━━━━━━━━━━━━━━━━━━━\u001b[0m \u001b[32m508.1/508.1 MB\u001b[0m \u001b[31m63.4 MB/s\u001b[0m eta \u001b[36m0:00:00\u001b[0m00:01\u001b[0m00:01\u001b[0m\n",
      "\u001b[?25hDownloading nvidia_cufft_cu12-11.3.0.4-py3-none-manylinux2014_x86_64.manylinux_2_17_x86_64.whl (200.2 MB)\n",
      "\u001b[2K   \u001b[90m━━━━━━━━━━━━━━━━━━━━━━━━━━━━━━━━━━━━━━━\u001b[0m \u001b[32m200.2/200.2 MB\u001b[0m \u001b[31m125.4 MB/s\u001b[0m eta \u001b[36m0:00:00\u001b[0ma \u001b[36m0:00:01\u001b[0m\n",
      "\u001b[?25hDownloading nvidia_cusolver_cu12-11.7.1.2-py3-none-manylinux2014_x86_64.manylinux_2_17_x86_64.whl (158.2 MB)\n",
      "\u001b[2K   \u001b[90m━━━━━━━━━━━━━━━━━━━━━━━━━━━━━━━━━━━━━━━\u001b[0m \u001b[32m158.2/158.2 MB\u001b[0m \u001b[31m193.4 MB/s\u001b[0m eta \u001b[36m0:00:00\u001b[0m00:01\u001b[0m00:01\u001b[0m\n",
      "\u001b[?25hDownloading nvidia_cusparse_cu12-12.5.4.2-py3-none-manylinux2014_x86_64.manylinux_2_17_x86_64.whl (216.6 MB)\n",
      "\u001b[2K   \u001b[90m━━━━━━━━━━━━━━━━━━━━━━━━━━━━━━━━━━━━━━━\u001b[0m \u001b[32m216.6/216.6 MB\u001b[0m \u001b[31m122.1 MB/s\u001b[0m eta \u001b[36m0:00:00\u001b[0m00:01\u001b[0m00:01\u001b[0m\n",
      "\u001b[?25hDownloading nvidia_nvjitlink_cu12-12.6.85-py3-none-manylinux2010_x86_64.manylinux_2_12_x86_64.whl (19.7 MB)\n",
      "\u001b[2K   \u001b[90m━━━━━━━━━━━━━━━━━━━━━━━━━━━━━━━━━━━━━━━━\u001b[0m \u001b[32m19.7/19.7 MB\u001b[0m \u001b[31m444.4 MB/s\u001b[0m eta \u001b[36m0:00:00\u001b[0m\n",
      "\u001b[?25hDownloading python_dotenv-1.0.1-py3-none-any.whl (19 kB)\n",
      "Downloading starlette-0.41.3-py3-none-any.whl (73 kB)\n",
      "Downloading uvloop-0.21.0-cp310-cp310-manylinux_2_17_x86_64.manylinux2014_x86_64.whl (3.8 MB)\n",
      "\u001b[2K   \u001b[90m━━━━━━━━━━━━━━━━━━━━━━━━━━━━━━━━━━━━━━━━\u001b[0m \u001b[32m3.8/3.8 MB\u001b[0m \u001b[31m383.5 MB/s\u001b[0m eta \u001b[36m0:00:00\u001b[0m\n",
      "\u001b[?25hDownloading watchfiles-1.0.4-cp310-cp310-manylinux_2_17_x86_64.manylinux2014_x86_64.whl (452 kB)\n",
      "Downloading websockets-14.2-cp310-cp310-manylinux_2_5_x86_64.manylinux1_x86_64.manylinux_2_17_x86_64.manylinux2014_x86_64.whl (169 kB)\n",
      "Downloading etils-1.11.0-py3-none-any.whl (165 kB)\n",
      "Downloading uvicorn-0.34.0-py3-none-any.whl (62 kB)\n",
      "Building wheels for collected packages: granular, portal, scope\n",
      "  Building wheel for granular (pyproject.toml) ... \u001b[?25ldone\n",
      "\u001b[?25h  Created wheel for granular: filename=granular-0.21.0-py3-none-any.whl size=16906 sha256=7027e7595ade80db33fdb1b8b92ca4c2a93f7c30fc62a1cf02d709f35a996935\n",
      "  Stored in directory: /tmp/pip-ephem-wheel-cache-5hpnno07/wheels/50/77/db/f22a3e786a7c330234edf0bd9ee5751d5a859734dca04b058f\n",
      "  Building wheel for portal (pyproject.toml) ... \u001b[?25ldone\n",
      "\u001b[?25h  Created wheel for portal: filename=portal-3.5.1-py3-none-any.whl size=24095 sha256=9fecf7982f30d90cc60bf70710292a000d4f60383fa080b499e9edd4307fff47\n",
      "  Stored in directory: /tmp/pip-ephem-wheel-cache-5hpnno07/wheels/aa/b6/98/2df1824c174feb1a507c41c562872e50d6c7d7844e162e38a5\n",
      "  Building wheel for scope (setup.py) ... \u001b[?25ldone\n",
      "\u001b[?25h  Created wheel for scope: filename=scope-0.5.2-py3-none-any.whl size=491665 sha256=265766b41ad6ef6d5ba53ee4076e859121bab7100423e5f34ae5aa7dfd5b11e4\n",
      "  Stored in directory: /tmp/pip-ephem-wheel-cache-5hpnno07/wheels/4f/8e/27/2610550a03635f7de70a0adfa4969675c9ee2c20badd9fe28d\n",
      "Successfully built granular portal scope\n",
      "Installing collected packages: jax-cuda12-pjrt, websockets, uvloop, uvicorn, tqdm, python-dotenv, nvidia-nvjitlink-cu12, nvidia-cuda-runtime-cu12, nvidia-cuda-nvcc-cu12, nvidia-cuda-cupti-cu12, nvidia-cublas-cu12, numpy, jaxtyping, jax-cuda12-plugin, httptools, etils, colored_traceback, av, watchfiles, starlette, portal, nvidia-cusparse-cu12, nvidia-cufft-cu12, nvidia-cudnn-cu12, granular, nvidia-cusolver-cu12, jaxlib, fastapi, jax, ipdb, chex, optax, scope\n",
      "  Attempting uninstall: tqdm\n",
      "    Found existing installation: tqdm 4.66.5\n",
      "    Uninstalling tqdm-4.66.5:\n",
      "      Successfully uninstalled tqdm-4.66.5\n",
      "  Attempting uninstall: numpy\n",
      "    Found existing installation: numpy 2.2.2\n",
      "    Uninstalling numpy-2.2.2:\n",
      "      Successfully uninstalled numpy-2.2.2\n",
      "  Attempting uninstall: jaxlib\n",
      "    Found existing installation: jaxlib 0.5.0\n",
      "    Uninstalling jaxlib-0.5.0:\n",
      "      Successfully uninstalled jaxlib-0.5.0\n",
      "  Attempting uninstall: jax\n",
      "    Found existing installation: jax 0.5.0\n",
      "    Uninstalling jax-0.5.0:\n",
      "      Successfully uninstalled jax-0.5.0\n",
      "Successfully installed av-14.0.1 chex-0.1.88 colored_traceback-0.4.2 etils-1.11.0 fastapi-0.115.6 granular-0.21.0 httptools-0.6.4 ipdb-0.13.13 jax-0.4.33 jax-cuda12-pjrt-0.4.33 jax-cuda12-plugin-0.4.33 jaxlib-0.4.33 jaxtyping-0.2.36 numpy-1.26.4 nvidia-cublas-cu12-12.6.4.1 nvidia-cuda-cupti-cu12-12.6.80 nvidia-cuda-nvcc-cu12-12.1.105 nvidia-cuda-runtime-cu12-12.6.77 nvidia-cudnn-cu12-9.6.0.74 nvidia-cufft-cu12-11.3.0.4 nvidia-cusolver-cu12-11.7.1.2 nvidia-cusparse-cu12-12.5.4.2 nvidia-nvjitlink-cu12-12.6.85 optax-0.2.4 portal-3.5.1 python-dotenv-1.0.1 scope-0.5.2 starlette-0.41.3 tqdm-4.67.1 uvicorn-0.34.0 uvloop-0.21.0 watchfiles-1.0.4 websockets-14.2\n",
      "\u001b[33mWARNING: Running pip as the 'root' user can result in broken permissions and conflicting behaviour with the system package manager, possibly rendering your system unusable.It is recommended to use a virtual environment instead: https://pip.pypa.io/warnings/venv. Use the --root-user-action option if you know what you are doing and want to suppress this warning.\u001b[0m\u001b[33m\n",
      "\u001b[0m\n",
      "\u001b[1m[\u001b[0m\u001b[34;49mnotice\u001b[0m\u001b[1;39;49m]\u001b[0m\u001b[39;49m A new release of pip is available: \u001b[0m\u001b[31;49m24.2\u001b[0m\u001b[39;49m -> \u001b[0m\u001b[32;49m24.3.1\u001b[0m\n",
      "\u001b[1m[\u001b[0m\u001b[34;49mnotice\u001b[0m\u001b[1;39;49m]\u001b[0m\u001b[39;49m To update, run: \u001b[0m\u001b[32;49mpython -m pip install --upgrade pip\u001b[0m\n"
     ]
    }
   ],
   "source": [
    "!pip install -r ../dreamerv3/requirements.txt -U"
   ]
  },
  {
   "cell_type": "code",
   "execution_count": 3,
   "metadata": {},
   "outputs": [
    {
     "name": "stdout",
     "output_type": "stream",
     "text": [
      "Looking in indexes: https://pypi.org/simple, https://pypi.ngc.nvidia.com\n",
      "Requirement already satisfied: jax in /usr/local/lib/python3.10/dist-packages (0.4.33)\n",
      "Collecting jax\n",
      "  Downloading jax-0.5.0-py3-none-any.whl.metadata (22 kB)\n",
      "Collecting jaxlib<=0.5.0,>=0.5.0 (from jax)\n",
      "  Downloading jaxlib-0.5.0-cp310-cp310-manylinux2014_x86_64.whl.metadata (978 bytes)\n",
      "Requirement already satisfied: ml_dtypes>=0.4.0 in /usr/local/lib/python3.10/dist-packages (from jax) (0.5.1)\n",
      "Requirement already satisfied: numpy>=1.25 in /usr/local/lib/python3.10/dist-packages (from jax) (1.26.4)\n",
      "Requirement already satisfied: opt_einsum in /usr/local/lib/python3.10/dist-packages/opt_einsum-3.4.0-py3.10.egg (from jax) (3.4.0)\n",
      "Requirement already satisfied: scipy>=1.11.1 in /usr/local/lib/python3.10/dist-packages (from jax) (1.14.0)\n",
      "Downloading jax-0.5.0-py3-none-any.whl (2.3 MB)\n",
      "\u001b[2K   \u001b[90m━━━━━━━━━━━━━━━━━━━━━━━━━━━━━━━━━━━━━━━━\u001b[0m \u001b[32m2.3/2.3 MB\u001b[0m \u001b[31m311.9 MB/s\u001b[0m eta \u001b[36m0:00:00\u001b[0m\n",
      "\u001b[?25hDownloading jaxlib-0.5.0-cp310-cp310-manylinux2014_x86_64.whl (102.0 MB)\n",
      "\u001b[2K   \u001b[90m━━━━━━━━━━━━━━━━━━━━━━━━━━━━━━━━━━━━━━━\u001b[0m \u001b[32m102.0/102.0 MB\u001b[0m \u001b[31m457.2 MB/s\u001b[0m eta \u001b[36m0:00:00\u001b[0ma \u001b[36m0:00:01\u001b[0m\n",
      "\u001b[?25hInstalling collected packages: jaxlib, jax\n",
      "  Attempting uninstall: jaxlib\n",
      "    Found existing installation: jaxlib 0.4.33\n",
      "    Uninstalling jaxlib-0.4.33:\n",
      "      Successfully uninstalled jaxlib-0.4.33\n",
      "  Attempting uninstall: jax\n",
      "    Found existing installation: jax 0.4.33\n",
      "    Uninstalling jax-0.4.33:\n",
      "      Successfully uninstalled jax-0.4.33\n",
      "Successfully installed jax-0.5.0 jaxlib-0.5.0\n",
      "\u001b[33mWARNING: Running pip as the 'root' user can result in broken permissions and conflicting behaviour with the system package manager, possibly rendering your system unusable.It is recommended to use a virtual environment instead: https://pip.pypa.io/warnings/venv. Use the --root-user-action option if you know what you are doing and want to suppress this warning.\u001b[0m\u001b[33m\n",
      "\u001b[0m\n",
      "\u001b[1m[\u001b[0m\u001b[34;49mnotice\u001b[0m\u001b[1;39;49m]\u001b[0m\u001b[39;49m A new release of pip is available: \u001b[0m\u001b[31;49m24.2\u001b[0m\u001b[39;49m -> \u001b[0m\u001b[32;49m24.3.1\u001b[0m\n",
      "\u001b[1m[\u001b[0m\u001b[34;49mnotice\u001b[0m\u001b[1;39;49m]\u001b[0m\u001b[39;49m To update, run: \u001b[0m\u001b[32;49mpython -m pip install --upgrade pip\u001b[0m\n"
     ]
    }
   ],
   "source": [
    "!pip install jax -U"
   ]
  },
  {
   "cell_type": "code",
   "execution_count": 1,
   "metadata": {
    "id": "gLtv_XwbB8m5"
   },
   "outputs": [],
   "source": [
    "import os\n",
    "import json\n",
    "import tqdm\n",
    "import torch\n",
    "import pickle\n",
    "import numpy as np\n",
    "import pandas as pd\n",
    "import os\n",
    "import ninjax as nj\n",
    "from pathlib import Path\n",
    "from typing import Tuple, List, Dict, Any\n",
    "from torch.utils.data import DataLoader\n",
    "import elements\n",
    "import jax.numpy as jnp\n",
    "import ruamel.yaml as yaml"
   ]
  },
  {
   "cell_type": "code",
   "execution_count": 2,
   "metadata": {
    "id": "SrxCB9xeDsxt"
   },
   "outputs": [],
   "source": [
    "root = Path(os.getcwd()).parent\n",
    "os.sys.path.append(str(root))\n",
    "os.sys.path.append(str(root / \"dreamerv3\"))"
   ]
  },
  {
   "cell_type": "code",
   "execution_count": 3,
   "metadata": {
    "id": "WkxCoz8LB8m7"
   },
   "outputs": [],
   "source": [
    "# import locals\n",
    "from models.agent_probe import Agent, sg\n",
    "from models.rssm_probe import Decoder\n",
    "from dreamerv3.agent import Agent as AgentOri\n",
    "from embodied.envs import crafter\n",
    "from embodied.jax import transform"
   ]
  },
  {
   "cell_type": "markdown",
   "metadata": {
    "id": "eLxQIAnoB8m8"
   },
   "source": [
    "# Functions"
   ]
  },
  {
   "cell_type": "code",
   "execution_count": 4,
   "metadata": {
    "colab": {
     "base_uri": "https://localhost:8080/"
    },
    "id": "ZGUf0OkfB8m8",
    "outputId": "2c4d06a2-0305-40b3-e882-1bf2c8c76a3d"
   },
   "outputs": [],
   "source": [
    "def load_config(argv=None):\n",
    "    # adaptation from dreamerv3/main.py\n",
    "    configs = elements.Path('./configs.yaml').read()\n",
    "    configs = yaml.YAML(typ='safe').load(configs)\n",
    "    parsed, other = elements.Flags(configs=['defaults']).parse_known(argv)\n",
    "    config = elements.Config(configs['defaults'])\n",
    "    for name in parsed.configs:\n",
    "        config = config.update(configs[name])\n",
    "    # config = elements.Flags(config).parse(other)\n",
    "    config = config.update(logdir=(\n",
    "        config.logdir.format(timestamp=elements.timestamp())))\n",
    "\n",
    "    if 'JOB_COMPLETION_INDEX' in os.environ:\n",
    "        config = config.update(replica=int(os.environ['JOB_COMPLETION_INDEX']))\n",
    "    print('Replica:', config.replica, '/', config.replicas)\n",
    "\n",
    "    logdir = elements.Path(config.logdir)\n",
    "    print('Logdir:', logdir)\n",
    "    print('Run script:', config.script)\n",
    "\n",
    "    return config"
   ]
  },
  {
   "cell_type": "code",
   "execution_count": 5,
   "metadata": {
    "id": "C9CtwhJ8B8m9"
   },
   "outputs": [],
   "source": [
    "def load_dataset(path='./dataset/crafter', pickle=True) -> Tuple[List[Dict[str, np.ndarray]], List[Dict[str, np.ndarray]]]:\n",
    "    img_pos = []\n",
    "    img_epi = []\n",
    "\n",
    "    stats_files = os.listdir(path)\n",
    "    path = Path(path)\n",
    "    print(\"stats files num: \", len(stats_files))\n",
    "    # if pickle is True:\n",
    "    #     with open(path/'pickles/img_pos.pkl', 'rb') as handle:\n",
    "    #         img_pos = pickle.load(handle)\n",
    "    #     with open(path/'pickles/img_epi.pkl', 'rb') as handle:\n",
    "    #         img_epi = pickle.load(handle)\n",
    "    # else:\n",
    "    for file in tqdm.tqdm(stats_files):\n",
    "        if \"stats\" in file:\n",
    "            with open(path / file, 'r') as f:\n",
    "                data = [json.loads(line) for line in f]\n",
    "    \n",
    "            for d in data:\n",
    "                img_pos.append({\"image\": np.array(d['image']), 'pos': np.array(d['pos'])})\n",
    "                img_epi.append({\"image\": np.array(d['image']), 'episode': np.array(d['episode'])})\n",
    "    print(\"total length: \", len(img_pos))\n",
    "    return img_pos, img_epi"
   ]
  },
  {
   "cell_type": "code",
   "execution_count": 6,
   "metadata": {
    "id": "zYF6NNyCB8m9"
   },
   "outputs": [],
   "source": [
    "def load_agent(agent, path_to_pkl=\"./models/agent.pkl\"):\n",
    "    path_to_pkl = Path(path_to_pkl)\n",
    "    with open(path_to_pkl, 'rb') as f:\n",
    "        if \"agent\" in str(path_to_pkl):\n",
    "            weight = pickle.load(f)\n",
    "        else:\n",
    "            weight = pickle.load(f)['agent']\n",
    "    print(\"Agent loaded from\", path_to_pkl)\n",
    "    print(\"Agent type:\", type(weight))\n",
    "    print(type(agent))\n",
    "    agent.load(weight)\n",
    "    print(type(agent))\n",
    "    return agent"
   ]
  },
  {
   "cell_type": "code",
   "execution_count": 7,
   "metadata": {
    "id": "9eejPeJ9B8m-"
   },
   "outputs": [],
   "source": [
    "import inspect\n",
    "def overwrite_func(agent):\n",
    "    # overwrite call function in decoder\n",
    "    new_dec_call = lambda carry, feat, reset, training, single=False: Decoder.__call__(agent.model.dec, carry, feat, reset, training, single=False)\n",
    "    # print(\"new_dec_call: \")\n",
    "    # lines = inspect.getsource(Decoder.__call__)\n",
    "    agent.model.dec.__call__ = new_dec_call\n",
    "\n",
    "    # overwrite policy function in agent\n",
    "    new_agent_policy = lambda carry, obs, mode='train': Agent.policy(agent.model, carry, obs, mode='train')\n",
    "    agent.model.policy = new_agent_policy\n",
    "\n",
    "    return agent"
   ]
  },
  {
   "cell_type": "code",
   "execution_count": 8,
   "metadata": {
    "id": "zxYLCLL4WZXP"
   },
   "outputs": [],
   "source": [
    "def reconstruct_obs_dummy(img, batch=16):\n",
    "    obs = dict(\n",
    "        image=img,\n",
    "        reward=np.stack([np.float32(0) for _ in range(batch)]),\n",
    "        is_first=np.stack([False]*batch),\n",
    "        is_last=np.stack([False]*batch),\n",
    "        is_terminal=np.stack([False]*batch),\n",
    "    )\n",
    "    return obs"
   ]
  },
  {
   "cell_type": "code",
   "execution_count": 9,
   "metadata": {
    "id": "KWlLerJneFot"
   },
   "outputs": [],
   "source": [
    "import jax\n",
    "def collect_activations(carry, obs, agent: Agent):\n",
    "    # what is carry?: weight?\n",
    "    # prevact = previous action\n",
    "    (enc_carry, dyn_carry, dec_carry, prevact) = carry\n",
    "    kw = dict(training=False, single=True)\n",
    "    reset = obs['is_first']\n",
    "\n",
    "    # editted\n",
    "    activations = {}\n",
    "\n",
    "    # what is tokens?\n",
    "    enc_carry, enc_entry, tokens = agent.enc(enc_carry, obs, reset, **kw)\n",
    "\n",
    "    # editted\n",
    "    activations['encoder'] = tokens\n",
    "\n",
    "    dyn_carry, dyn_entry, feat = agent.dyn.observe(\n",
    "        dyn_carry, tokens, prevact, reset, **kw)\n",
    "\n",
    "    # editted\n",
    "    activations['dynamic'] = feat\n",
    "\n",
    "    dec_entry = {}\n",
    "    # if dec_carry:\n",
    "    dec_carry, dec_entry, recons = agent.dec(dec_carry, feat, reset, **kw)\n",
    "\n",
    "    # editted\n",
    "    activations['decoder'] = recons['x']\n",
    "\n",
    "    # actor: linear transformation of RSSM feature into action space distribution\n",
    "    sample = lambda xs: jax.tree.map(lambda x: x.sample(nj.seed()), xs)\n",
    "    policy = agent.pol(agent.feat2tensor(feat), bdims=1)\n",
    "    act = sample(policy)\n",
    "\n",
    "    # editted\n",
    "    activations['policy'] = policy\n",
    "\n",
    "    out = {}\n",
    "    out['finite'] = elements.tree.flatdict(jax.tree.map(\n",
    "        lambda x: jnp.isfinite(x).all(range(1, x.ndim)),\n",
    "        dict(obs=obs, carry=carry, tokens=tokens, feat=feat, act=act)))\n",
    "    carry = (enc_carry, dyn_carry, dec_carry, act)\n",
    "    return carry, act, out, activations"
   ]
  },
  {
   "cell_type": "code",
   "execution_count": 18,
   "metadata": {},
   "outputs": [],
   "source": [
    "def get_activations(obs, carry, agent):\n",
    "    carry, act, out = agent.policy(carry, obs)\n",
    "    deter = out['dyn/deter']\n",
    "    stoch = out['dyn/stoch']\n",
    "\n",
    "    # # change key names\n",
    "    # out['deter'] = out['dyn/deter']\n",
    "    # out['stoch'] = out['dyn/stoch']\n",
    "\n",
    "    # feat2tensor = agent.model.feat2tensor\n",
    "    # policy = agent.model.pol(feat2tensor(out), bdims=1)\n",
    "\n",
    "    return carry, agent, {'deter': deter, 'stoch': stoch}"
   ]
  },
  {
   "cell_type": "markdown",
   "metadata": {
    "id": "IlGEFjvyB8m-"
   },
   "source": [
    "# Initialization"
   ]
  },
  {
   "cell_type": "code",
   "execution_count": 11,
   "metadata": {
    "colab": {
     "base_uri": "https://localhost:8080/"
    },
    "id": "kVrFqyCfB8m-",
    "outputId": "7b94d9cc-43f0-497d-f3d8-67c787cd400b"
   },
   "outputs": [
    {
     "name": "stdout",
     "output_type": "stream",
     "text": [
      "Replica: 0 / 1\n",
      "Logdir: /workspace/assets/logdir/validation/20250121T195445\n",
      "Run script: test\n",
      "Observations\n",
      "  image            Space(uint8, shape=(64, 64, 3), low=0, high=255)\n",
      "  reward           Space(float32, shape=(), low=-inf, high=inf)\n",
      "  is_first         Space(bool, shape=(), low=False, high=True)\n",
      "  is_last          Space(bool, shape=(), low=False, high=True)\n",
      "  is_terminal      Space(bool, shape=(), low=False, high=True)\n",
      "Actions\n",
      "  action           Space(int32, shape=(), low=0, high=17)\n",
      "Extras\n",
      "  consec           Space(int32, shape=(), low=-2147483648, high=2147483647)\n",
      "  stepid           Space(uint8, shape=(20,), low=0, high=255)\n",
      "  dyn/deter        Space(float32, shape=(8192,), low=-inf, high=inf)\n",
      "  dyn/stoch        Space(float32, shape=(32, 64), low=-inf, high=inf)\n",
      "JAX devices (1): [cuda:0]\n",
      "Policy devices: cuda:0\n",
      "Train devices:  cuda:0\n",
      "Initializing parameters...\n",
      "Optimizer opt has 165,965,075 params:\n",
      "    95,495,168 dyn\n",
      "    20,282,115 dec\n",
      "    12,850,431 val\n",
      "    12,606,481 pol\n",
      "    10,749,183 rew\n",
      "    10,488,833 con\n",
      "     3,492,864 enc\n",
      "Done initializing!\n",
      "Compiling 1 checkpoint groups...\n",
      "Largest checkpoint group: 2 GB\n",
      "Compiling train and report...\n",
      "Train cost analysis:\n",
      "No available\n",
      "Report cost analysis:\n",
      "No available\n",
      "Done compiling!\n"
     ]
    }
   ],
   "source": [
    "config = load_config()\n",
    "\n",
    "# environment\n",
    "SEED = 0\n",
    "TASK = \"reward\"\n",
    "INDEX = 0\n",
    "seed = hash((SEED, INDEX)) % (2 ** 32 - 1)\n",
    "env = crafter.Crafter(seed=seed, task=TASK)\n",
    "  # adaptation from dreamerv3/main.py\n",
    "notlog = lambda k: not k.startswith('log/')\n",
    "obs_space = {k: v for k, v in env.obs_space.items() if notlog(k)}\n",
    "act_space = {k: v for k, v in env.act_space.items() if k != 'reset'}\n",
    "\n",
    "env.close()\n",
    "\n",
    "# agent\n",
    "# adaptation from dreamerv3/main.py\n",
    "config = elements.Config(\n",
    "      **config.agent,\n",
    "      logdir=config.logdir,\n",
    "      seed=config.seed,\n",
    "      jax=config.jax,\n",
    "      batch_size=config.batch_size,\n",
    "      batch_length=config.batch_length,\n",
    "      replay_context=config.replay_context,\n",
    "      report_length=config.report_length,\n",
    "      replica=config.replica,\n",
    "      replicas=config.replicas,\n",
    "  )\n",
    "agentori = AgentOri(obs_space, act_space, config)"
   ]
  },
  {
   "cell_type": "code",
   "execution_count": 12,
   "metadata": {
    "id": "ATA_D89oS5wA"
   },
   "outputs": [
    {
     "name": "stdout",
     "output_type": "stream",
     "text": [
      "Agent loaded from models/agent.pkl\n",
      "Agent type: <class 'dict'>\n",
      "<class 'embodied.jax.agent.Agent'>\n",
      "<class 'embodied.jax.agent.Agent'>\n"
     ]
    }
   ],
   "source": [
    "# agentori = overwrite_func(agentori)\n",
    "\n",
    "# pm, ps = agentori.policy_mirrored, agentori.policy_sharded\n",
    "# tp, pp = agentori.train_params_sharding, agentori.policy_params_sharding\n",
    "# _, ar = agentori.partition_rules\n",
    "# shared_kwargs = {'use_shardmap': agentori.jaxcfg.use_shardmap}\n",
    "\n",
    "# agentori._policy = transform.apply(\n",
    "#     nj.pure(agentori.model.policy), agentori.policy_mesh,\n",
    "#     (pp, pm, ps, ps), (ps, ps, ps), ar,\n",
    "#     static_argnums=(4,), **shared_kwargs)\n",
    "\n",
    "TEST = \"./models/agent.pkl\"\n",
    "agentori = load_agent(agentori, TEST)\n",
    "\n",
    "# agent = agentori.model"
   ]
  },
  {
   "cell_type": "code",
   "execution_count": null,
   "metadata": {},
   "outputs": [],
   "source": [
    "# if dataset (stats.jsonl files) have not been migrated to /dataset/, please run this\n",
    "!python utils.py"
   ]
  },
  {
   "cell_type": "code",
   "execution_count": 13,
   "metadata": {
    "id": "k5SFR7iJB8m_"
   },
   "outputs": [
    {
     "name": "stdout",
     "output_type": "stream",
     "text": [
      "stats files num:  146\n"
     ]
    },
    {
     "name": "stderr",
     "output_type": "stream",
     "text": [
      "100%|██████████| 146/146 [02:37<00:00,  1.08s/it]"
     ]
    },
    {
     "name": "stdout",
     "output_type": "stream",
     "text": [
      "total length:  15849\n",
      "15849 15849\n"
     ]
    },
    {
     "name": "stderr",
     "output_type": "stream",
     "text": [
      "\n"
     ]
    }
   ],
   "source": [
    "# dataset\n",
    "img_pos, img_epi = load_dataset(\"./dataset/crafter\", pickle=False)\n",
    "print(len(img_pos), len(img_epi))\n",
    "assert len(img_pos) == len(img_epi)\n",
    "\n",
    "BSIZE = config.batch_size\n",
    "dl_space = DataLoader(img_pos, batch_size=BSIZE, shuffle=True)\n",
    "dl_time = DataLoader(img_epi, batch_size=BSIZE, shuffle=True)"
   ]
  },
  {
   "cell_type": "code",
   "execution_count": null,
   "metadata": {},
   "outputs": [],
   "source": []
  },
  {
   "cell_type": "code",
   "execution_count": 23,
   "metadata": {},
   "outputs": [],
   "source": [
    "import pickle\n",
    "\n",
    "path = Path('./dataset/crafter/pickles')\n",
    "os.makedirs(path, exist_ok=True)\n",
    "\n",
    "with open(path/'img_pos.pkl', 'wb') as handle:\n",
    "    pickle.dump(img_pos, handle, protocol=pickle.HIGHEST_PROTOCOL)\n",
    "\n",
    "with open(path/'img_epi.pkl', 'wb') as handle:\n",
    "    pickle.dump(img_epi, handle, protocol=pickle.HIGHEST_PROTOCOL)"
   ]
  },
  {
   "cell_type": "code",
   "execution_count": 14,
   "metadata": {},
   "outputs": [
    {
     "name": "stdout",
     "output_type": "stream",
     "text": [
      "Agent loaded from models/agent.pkl\n",
      "Agent type: <class 'dict'>\n",
      "dict_keys(['params', 'counters'])\n"
     ]
    }
   ],
   "source": [
    "path_to_pkl=\"./models/agent.pkl\"\n",
    "path_to_pkl = Path(path_to_pkl)\n",
    "with open(path_to_pkl, 'rb') as f:\n",
    "    if \"agent\" in str(path_to_pkl):\n",
    "        weight = pickle.load(f)\n",
    "    else:\n",
    "        weight = pickle.load(f)['agent']\n",
    "print(\"Agent loaded from\", path_to_pkl)\n",
    "print(\"Agent type:\", type(weight))\n",
    "print(weight.keys())"
   ]
  },
  {
   "cell_type": "code",
   "execution_count": 15,
   "metadata": {},
   "outputs": [
    {
     "name": "stdout",
     "output_type": "stream",
     "text": [
      "{'updates': 50919, 'batches': 50924, 'actions': 1630370}\n"
     ]
    }
   ],
   "source": [
    "print(weight['counters'])"
   ]
  },
  {
   "cell_type": "markdown",
   "metadata": {
    "id": "diH3qWDeB8nA"
   },
   "source": [
    "# Activations"
   ]
  },
  {
   "cell_type": "code",
   "execution_count": 16,
   "metadata": {
    "id": "D4sMuCU_jy8t"
   },
   "outputs": [],
   "source": [
    "jax.config.update(\"jax_transfer_guard\", \"allow\")\n",
    "from ninjax import pure"
   ]
  },
  {
   "cell_type": "markdown",
   "metadata": {
    "id": "lWOswNKIB8nA"
   },
   "source": [
    "## spatial activations"
   ]
  },
  {
   "cell_type": "code",
   "execution_count": 19,
   "metadata": {
    "id": "KoZ8BbgvB8nA"
   },
   "outputs": [
    {
     "name": "stderr",
     "output_type": "stream",
     "text": [
      "100%|██████████| 991/991 [00:09<00:00, 105.34it/s]\n"
     ]
    },
    {
     "name": "stdout",
     "output_type": "stream",
     "text": [
      "saved\n"
     ]
    }
   ],
   "source": [
    "carry = agentori.init_policy(batch_size=BSIZE)\n",
    "\n",
    "path_to_save = Path('./dataset/act/')\n",
    "os.makedirs(path_to_save, exist_ok=True)\n",
    "\n",
    "images = []\n",
    "positions = []\n",
    "deters = []\n",
    "stochs = []\n",
    "logits = []\n",
    "encoders = []\n",
    "decoders = []\n",
    "policies = []\n",
    "\n",
    "dtype=jnp.uint8\n",
    "\n",
    "cpu = lambda x: jax.device_put(x, device=jax.devices('cpu')[0]).astype(dtype)\n",
    "cuda = lambda x: jax.device_put(x, device=jax.devices()[0]).astype(dtype)\n",
    "\n",
    "\n",
    "for idx, batch in enumerate(tqdm.tqdm(dl_space)):\n",
    "    if batch['image'].shape[0] != BSIZE:\n",
    "        continue\n",
    "    img = jnp.asarray(batch['image'].numpy())\n",
    "    pos = jnp.asarray(batch['pos'].numpy())\n",
    "    img = cuda(img)\n",
    "    pos = cuda(pos)\n",
    "    # img = jnp.asarray(img)\n",
    "    # pos = jnp.asarray(pos)\n",
    "\n",
    "    img = sg(img)\n",
    "    pos = sg(pos)\n",
    "\n",
    "    carry = sg(carry)\n",
    "    obs = reconstruct_obs_dummy(img, BSIZE)\n",
    "\n",
    "    carry, agentori, activations = get_activations(obs, carry, agentori)\n",
    "\n",
    "    deter = activations['deter']\n",
    "    stoch = activations['stoch']\n",
    "\n",
    "    deter = np.array(sg(deter))\n",
    "    stoch = np.array(sg(stoch))\n",
    "    \n",
    "    img = np.array(img)\n",
    "    pos = np.array(pos)\n",
    "\n",
    "\n",
    "    # logit = np.array(sg(logit))\n",
    "    # enc = np.array(sg(activations['tokens']))\n",
    "    # pol = np.array(sg(activations['policy']['action']))\n",
    "    images.append(img)\n",
    "    positions.append(pos)\n",
    "    deters.append(deter)\n",
    "    stochs.append(stoch)\n",
    "    # logits.append(logit)\n",
    "    # encoders.append(enc)\n",
    "    # policies.append(pol)\n",
    "\n",
    "images = np.stack(images, axis=0)\n",
    "positions = np.stack(positions, axis=0)\n",
    "deters = np.stack(deters, axis=0)\n",
    "stochs = np.stack(stochs, axis=0)\n",
    "# logits = np.stack(logits, axis=0)\n",
    "# encoders = np.stack(encoders, axis=0)\n",
    "# policies = np.stack(policies, axis=0)\n",
    "\n",
    "np.savez_compressed(\n",
    "    path_to_save / f'space.npz',\n",
    "    images=images,\n",
    "    positions=positions,\n",
    "    deters=deters,\n",
    "    stochs=stochs,\n",
    "    # logits=logits,\n",
    "    # encoders=encoders,\n",
    "    # policies=policies\n",
    ")\n",
    "\n",
    "print(\"saved\")"
   ]
  },
  {
   "cell_type": "markdown",
   "metadata": {
    "id": "MKNdkU3SB8nA"
   },
   "source": [
    "## temporal activationspositions"
   ]
  },
  {
   "cell_type": "code",
   "execution_count": 21,
   "metadata": {
    "id": "bboTaOZpB8nA"
   },
   "outputs": [
    {
     "name": "stderr",
     "output_type": "stream",
     "text": [
      "100%|██████████| 991/991 [00:09<00:00, 105.24it/s]\n"
     ]
    },
    {
     "name": "stdout",
     "output_type": "stream",
     "text": [
      "saved\n"
     ]
    }
   ],
   "source": [
    "carry = agentori.init_policy(batch_size=BSIZE)\n",
    "\n",
    "path_to_save = Path('./dataset/act/')\n",
    "os.makedirs(path_to_save, exist_ok=True)\n",
    "\n",
    "images = []\n",
    "episodes = []\n",
    "deters = []\n",
    "stochs = []\n",
    "logits = []\n",
    "encoders = []\n",
    "decoders = []\n",
    "policies = []\n",
    "\n",
    "dtype=jnp.uint8\n",
    "\n",
    "cpu = lambda x: jax.device_put(x, device=jax.devices('cpu')[0]).astype(dtype)\n",
    "cuda = lambda x: jax.device_put(x, device=jax.devices()[0]).astype(dtype)\n",
    "\n",
    "\n",
    "for idx, batch in enumerate(tqdm.tqdm(dl_time)):\n",
    "    if batch['image'].shape[0] != BSIZE:\n",
    "        continue\n",
    "    img = jnp.asarray(batch['image'].numpy())\n",
    "    epi = jnp.asarray(batch['episode'].numpy())\n",
    "    img = cuda(img)\n",
    "    epi = cuda(epi)\n",
    "    # img = jnp.asarray(img)\n",
    "    # pos = jnp.asarray(pos)\n",
    "\n",
    "    img = sg(img)\n",
    "    epi = sg(epi)\n",
    "\n",
    "    carry = sg(carry)\n",
    "    obs = reconstruct_obs_dummy(img, BSIZE)\n",
    "\n",
    "    carry, agentori, activations = get_activations(obs, carry, agentori)\n",
    "\n",
    "    deter = activations['deter']\n",
    "    stoch = activations['stoch']\n",
    "\n",
    "    deter = np.array(sg(deter))\n",
    "    stoch = np.array(sg(stoch))\n",
    "    \n",
    "    img = np.array(img)\n",
    "    epi = np.array(epi)\n",
    "\n",
    "\n",
    "    # logit = np.array(sg(logit))\n",
    "    # enc = np.array(sg(activations['tokens']))\n",
    "    # pol = np.array(sg(activations['policy']['action']))\n",
    "    images.append(img)\n",
    "    episodes.append(epi)\n",
    "    deters.append(deter)\n",
    "    stochs.append(stoch)\n",
    "    # logits.append(logit)\n",
    "    # encoders.append(enc)\n",
    "    # policies.append(pol)\n",
    "\n",
    "images = np.stack(images, axis=0)\n",
    "episodes = np.stack(episodes, axis=0)\n",
    "deters = np.stack(deters, axis=0)\n",
    "stochs = np.stack(stochs, axis=0)\n",
    "# logits = np.stack(logits, axis=0)\n",
    "# encoders = np.stack(encoders, axis=0)\n",
    "# policies = np.stack(policies, axis=0)\n",
    "\n",
    "np.savez_compressed(\n",
    "    path_to_save / f'time.npz',\n",
    "    images=images,\n",
    "    episodes=episodes,\n",
    "    deters=deters,\n",
    "    stochs=stochs,\n",
    "    # logits=logits,\n",
    "    # encoders=encoders,\n",
    "    # policies=policies\n",
    ")\n",
    "\n",
    "print(\"saved\")"
   ]
  },
  {
   "cell_type": "markdown",
   "metadata": {
    "id": "lrb4rTE9B8nA"
   },
   "source": []
  }
 ],
 "metadata": {
  "accelerator": "GPU",
  "colab": {
   "gpuType": "T4",
   "provenance": []
  },
  "kernelspec": {
   "display_name": ".venv",
   "language": "python",
   "name": "python3"
  },
  "language_info": {
   "codemirror_mode": {
    "name": "ipython",
    "version": 3
   },
   "file_extension": ".py",
   "mimetype": "text/x-python",
   "name": "python",
   "nbconvert_exporter": "python",
   "pygments_lexer": "ipython3",
   "version": "3.10.14"
  }
 },
 "nbformat": 4,
 "nbformat_minor": 4
}
