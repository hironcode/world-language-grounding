{
 "cells": [
  {
   "cell_type": "code",
   "execution_count": 2,
   "metadata": {},
   "outputs": [],
   "source": [
    "import os\n",
    "import json\n",
    "import tqdm\n",
    "import torch\n",
    "import pickle\n",
    "import numpy as np\n",
    "import pandas as pd\n",
    "import os\n",
    "import ninjax\n",
    "from pathlib import Path\n",
    "from typing import Tuple, List, Dict, Any\n",
    "from torch.utils.data import DataLoader"
   ]
  },
  {
   "cell_type": "code",
   "execution_count": null,
   "metadata": {},
   "outputs": [],
   "source": [
    "root = Path(os.getcwd()).parent\n",
    "os.sys.path.append(str(root))\n",
    "os.sys.path.append(str(root / \"dreamerv3\"))"
   ]
  },
  {
   "cell_type": "code",
   "execution_count": 16,
   "metadata": {},
   "outputs": [],
   "source": [
    "# import locals\n",
    "from models.agent_probe import Agent, sg\n",
    "from embodied.envs import crafter"
   ]
  },
  {
   "cell_type": "markdown",
   "metadata": {},
   "source": [
    "# Functions"
   ]
  },
  {
   "cell_type": "code",
   "execution_count": 17,
   "metadata": {},
   "outputs": [],
   "source": [
    "def load_dataset(path='./dataset/crafter') -> Tuple[List[Dict[str, np.ndarray]], List[Dict[str, np.ndarray]]]:\n",
    "    img_pos = []\n",
    "    img_epi = []\n",
    "\n",
    "    stats_files = os.listdir(path)\n",
    "    path = Path(path)\n",
    "    for file in stats_files:\n",
    "        with open(path / file, 'r') as f:\n",
    "            data = [json.loads(line) for line in f]\n",
    "        \n",
    "        for d in data:\n",
    "            img_pos.append({\"image\": np.array(d['image']), 'pos': np.array(d['pos'])})\n",
    "            img_epi.append({\"image\": np.array(d['image']), 'episode': np.array(d['episode'])})\n",
    "\n",
    "    return img_pos, img_epi"
   ]
  },
  {
   "cell_type": "code",
   "execution_count": 18,
   "metadata": {},
   "outputs": [],
   "source": [
    "def load_agent(path_to_pkl=\"./models/agent.pkl\"):\n",
    "    path_to_pkl = Path(path_to_pkl)\n",
    "    with open(path_to_pkl, 'rb') as f:\n",
    "        agent = pickle.load(f)\n",
    "    print(\"Agent loaded from\", path_to_pkl)\n",
    "    print(\"Agent type:\", type(agent))\n",
    "    return agent"
   ]
  },
  {
   "cell_type": "code",
   "execution_count": 19,
   "metadata": {},
   "outputs": [],
   "source": [
    "def overwrite_func(agent: Agent):\n",
    "\n",
    "    # overwrite call function in decoder\n",
    "    new_dec_call = lambda carry, feat, reset, training, single=False: Agent.__call__(agent, carry, feat, reset, training, single=False)\n",
    "    agent.dec['simple'].__call__ = new_dec_call\n",
    "\n",
    "    # overwrite policy function in agent\n",
    "    new_agent_policy = lambda carry, obs, mode='train': Agent.policy(agent, carry, obs, mode='train')\n",
    "    agent.policy = new_agent_policy\n",
    "\n",
    "    return agent"
   ]
  },
  {
   "cell_type": "markdown",
   "metadata": {},
   "source": [
    "# Initialization"
   ]
  },
  {
   "cell_type": "code",
   "execution_count": null,
   "metadata": {},
   "outputs": [],
   "source": [
    "# environment\n",
    "TASK = \"reward\"\n",
    "SEED = 0\n",
    "seed = hash((SEED, 0)) % (2 ** 32 - 1)\n",
    "env = crafter.Crafter(seed=seed, task=TASK)\n",
    "\n",
    "# agent\n",
    "# kwargs = {\"size\": [64, 64], \"logs\": False, \"use_seed\": True, \"use_logdir\": False}\n",
    "# agent = Agent(env.obs_space, env.act_space, **kwargs)\n",
    "agent = load_agent()\n",
    "agent = overwrite_func(agent)"
   ]
  },
  {
   "cell_type": "code",
   "execution_count": 28,
   "metadata": {},
   "outputs": [
    {
     "name": "stdout",
     "output_type": "stream",
     "text": [
      "1066 1066\n"
     ]
    }
   ],
   "source": [
    "# dataset\n",
    "img_pos, img_epi = load_dataset(\"./test/\")\n",
    "print(len(img_pos), len(img_epi))\n",
    "assert len(img_pos) == len(img_epi)\n",
    "\n",
    "BSIZE = 16\n",
    "dl_space = DataLoader(img_pos, batch_size=BSIZE, shuffle=True)\n",
    "dl_time = DataLoader(img_epi, batch_size=BSIZE, shuffle=True)"
   ]
  },
  {
   "cell_type": "code",
   "execution_count": 10,
   "metadata": {},
   "outputs": [
    {
     "name": "stdout",
     "output_type": "stream",
     "text": [
      "dict_keys(['image', 'pos'])\n",
      "torch.Size([16, 64, 64, 3]) torch.Size([16, 2])\n",
      "tensor([[20, 23],\n",
      "        [27, 47],\n",
      "        [99, 76],\n",
      "        [96, 41],\n",
      "        [50, 34],\n",
      "        [32, 87],\n",
      "        [45, 23],\n",
      "        [29, 84],\n",
      "        [23, 65],\n",
      "        [31, 58],\n",
      "        [35,  7],\n",
      "        [35, 28],\n",
      "        [68, 19],\n",
      "        [56, 68],\n",
      "        [98, 82],\n",
      "        [91, 87]], dtype=torch.int32)\n",
      "dict_keys(['image', 'pos'])\n",
      "torch.Size([16, 64, 64, 3]) torch.Size([16, 2])\n",
      "tensor([[99, 46],\n",
      "        [95, 76],\n",
      "        [72, 74],\n",
      "        [ 8, 44],\n",
      "        [60, 95],\n",
      "        [42, 94],\n",
      "        [58, 40],\n",
      "        [ 4, 50],\n",
      "        [40, 97],\n",
      "        [58, 99],\n",
      "        [52, 22],\n",
      "        [89, 26],\n",
      "        [66, 31],\n",
      "        [36, 44],\n",
      "        [57, 43],\n",
      "        [59, 34]], dtype=torch.int32)\n"
     ]
    }
   ],
   "source": [
    "# test = [{\"image\": np.random.randint(0, 255, (64, 64, 3), dtype=np.uint8), \"pos\": np.random.randint(0, 100, (2,), dtype=np.int32)} for _ in range(32)]\n",
    "# BSIZE = 16\n",
    "\n",
    "# dl_space = DataLoader(test, batch_size=BSIZE, shuffle=True)\n",
    "\n",
    "# for batch in dl_space:\n",
    "#     print(batch.keys())\n",
    "#     print(batch['image'].shape, batch['pos'].shape)\n",
    "#     print(batch['pos'])"
   ]
  },
  {
   "cell_type": "markdown",
   "metadata": {},
   "source": [
    "# Activations"
   ]
  },
  {
   "cell_type": "code",
   "execution_count": null,
   "metadata": {},
   "outputs": [],
   "source": []
  },
  {
   "cell_type": "markdown",
   "metadata": {},
   "source": [
    "## spatial activations "
   ]
  },
  {
   "cell_type": "code",
   "execution_count": null,
   "metadata": {},
   "outputs": [],
   "source": [
    "carry = agent.init_policy(batch_size=BSIZE)\n",
    "\n",
    "path_to_save = Path('./dataset/act/')\n",
    "\n",
    "for idx, batch in enumerate(tqdm.tqdm(dl_space)):\n",
    "    img = batch['image'].numpy()\n",
    "    pos = batch['pos'].numpy()\n",
    "    img = sg(img)\n",
    "    pos = sg(pos)\n",
    "    \n",
    "    assert type(img) == np.ndarray, type(img)\n",
    "    assert type(pos) == np.ndarray, type(pos)\n",
    "    \n",
    "    carry = sg(carry)\n",
    "\n",
    "    carry, act, out, activations = agent(carry, img, training=False)\n",
    "\n",
    "    deter = activations['dynamic']['deter']\n",
    "    stoch = activations['dynamic']['stoch']\n",
    "    logit = activations['dynamic']['logit']\n",
    "\n",
    "    deter = np.array(sg(deter))\n",
    "    stoch = np.array(sg(stoch))\n",
    "    logit = np.array(sg(logit))\n",
    "    enc = np.array(sg(activations['encoder']))\n",
    "    dec = np.array(sg(activations['decoder']))\n",
    "    pol = np.array(sg(activations['policy']))\n",
    "\n",
    "    print(deter.shape, stoch.shape, logit.shape, enc.shape, dec.shape, pol.shape)\n",
    "    \n",
    "    np.savez_compressed(\n",
    "        path_to_save / f'idx{idx}.npz', \n",
    "        img=img, \n",
    "        pos=pos, \n",
    "        deter=deter, \n",
    "        stoch=stoch, \n",
    "        logit=logit, \n",
    "        enc=enc, \n",
    "        dec=dec, \n",
    "        pol=pol\n",
    "    )"
   ]
  },
  {
   "cell_type": "markdown",
   "metadata": {},
   "source": [
    "## time activations"
   ]
  },
  {
   "cell_type": "code",
   "execution_count": null,
   "metadata": {},
   "outputs": [],
   "source": [
    "carry = agent.init_policy(batch_size=BSIZE)\n",
    "\n",
    "path_to_save = Path('./dataset/act/')\n",
    "\n",
    "for idx, batch in enumerate(tqdm.tqdm(dl_time)):\n",
    "    img = batch['image'].numpy()\n",
    "    pos = batch['pos'].numpy()\n",
    "    img = sg(img)\n",
    "    pos = sg(pos)\n",
    "    \n",
    "    assert type(img) == np.ndarray, type(img)\n",
    "    assert type(pos) == np.ndarray, type(pos)\n",
    "    \n",
    "    carry = sg(carry)\n",
    "\n",
    "    carry, act, out, activations = agent(carry, img, training=False)\n",
    "\n",
    "    deter = activations['dynamic']['deter']\n",
    "    stoch = activations['dynamic']['stoch']\n",
    "    logit = activations['dynamic']['logit']\n",
    "\n",
    "    deter = np.array(sg(deter))\n",
    "    stoch = np.array(sg(stoch))\n",
    "    logit = np.array(sg(logit))\n",
    "    enc = np.array(sg(activations['encoder']))\n",
    "    dec = np.array(sg(activations['decoder']))\n",
    "    pol = np.array(sg(activations['policy']))\n",
    "\n",
    "    print(deter.shape, stoch.shape, logit.shape, enc.shape, dec.shape, pol.shape)\n",
    "    \n",
    "    np.savez_compressed(\n",
    "        path_to_save / f'idx{idx}.npz', \n",
    "        img=img, \n",
    "        pos=pos, \n",
    "        deter=deter, \n",
    "        stoch=stoch, \n",
    "        logit=logit, \n",
    "        enc=enc, \n",
    "        dec=dec, \n",
    "        pol=pol\n",
    "    )"
   ]
  },
  {
   "cell_type": "markdown",
   "metadata": {},
   "source": []
  }
 ],
 "metadata": {
  "kernelspec": {
   "display_name": ".venv",
   "language": "python",
   "name": "python3"
  },
  "language_info": {
   "codemirror_mode": {
    "name": "ipython",
    "version": 3
   },
   "file_extension": ".py",
   "mimetype": "text/x-python",
   "name": "python",
   "nbconvert_exporter": "python",
   "pygments_lexer": "ipython3",
   "version": "3.10.14"
  }
 },
 "nbformat": 4,
 "nbformat_minor": 2
}
