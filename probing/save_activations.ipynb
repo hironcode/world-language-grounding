{
 "cells": [
  {
   "cell_type": "code",
   "execution_count": 45,
   "metadata": {},
   "outputs": [],
   "source": [
    "import os\n",
    "import json\n",
    "import tqdm\n",
    "import torch\n",
    "import pickle\n",
    "import numpy as np\n",
    "import pandas as pd\n",
    "import os\n",
    "import ninjax\n",
    "from pathlib import Path\n",
    "from typing import Tuple, List, Dict, Any\n",
    "from torch.utils.data import DataLoader\n",
    "import elements\n",
    "import ruamel.yaml as yaml"
   ]
  },
  {
   "cell_type": "code",
   "execution_count": 38,
   "metadata": {},
   "outputs": [],
   "source": [
    "root = Path(os.getcwd()).parent\n",
    "os.sys.path.append(str(root))\n",
    "os.sys.path.append(str(root / \"dreamerv3\"))"
   ]
  },
  {
   "cell_type": "code",
   "execution_count": 39,
   "metadata": {},
   "outputs": [],
   "source": [
    "# import locals\n",
    "from models.agent_probe import Agent, sg\n",
    "from embodied.envs import crafter"
   ]
  },
  {
   "cell_type": "markdown",
   "metadata": {},
   "source": [
    "# Functions"
   ]
  },
  {
   "cell_type": "code",
   "execution_count": 85,
   "metadata": {},
   "outputs": [],
   "source": [
    "def load_config(argv=None):\n",
    "    # adaptation from dreamerv3/main.py\n",
    "    configs = elements.Path('./configs.yaml').read()\n",
    "    configs = yaml.YAML(typ='safe').load(configs)\n",
    "    parsed, other = elements.Flags(configs=['defaults']).parse_known(argv)\n",
    "    config = elements.Config(configs['defaults'])\n",
    "    for name in parsed.configs:\n",
    "        config = config.update(configs[name])\n",
    "    # config = elements.Flags(config).parse(other)\n",
    "    config = config.update(logdir=(\n",
    "        config.logdir.format(timestamp=elements.timestamp())))\n",
    "\n",
    "    if 'JOB_COMPLETION_INDEX' in os.environ:\n",
    "        config = config.update(replica=int(os.environ['JOB_COMPLETION_INDEX']))\n",
    "    print('Replica:', config.replica, '/', config.replicas)\n",
    "\n",
    "    logdir = elements.Path(config.logdir)\n",
    "    # print('Logdir:', logdir)\n",
    "    print('Run script:', config.script)\n",
    "\n",
    "    return config"
   ]
  },
  {
   "cell_type": "code",
   "execution_count": 86,
   "metadata": {},
   "outputs": [],
   "source": [
    "def load_dataset(path='./dataset/crafter') -> Tuple[List[Dict[str, np.ndarray]], List[Dict[str, np.ndarray]]]:\n",
    "    img_pos = []\n",
    "    img_epi = []\n",
    "\n",
    "    stats_files = os.listdir(path)\n",
    "    path = Path(path)\n",
    "    for file in stats_files:\n",
    "        with open(path / file, 'r') as f:\n",
    "            data = [json.loads(line) for line in f]\n",
    "        \n",
    "        for d in data:\n",
    "            img_pos.append({\"image\": np.array(d['image']), 'pos': np.array(d['pos'])})\n",
    "            img_epi.append({\"image\": np.array(d['image']), 'episode': np.array(d['episode'])})\n",
    "\n",
    "    return img_pos, img_epi"
   ]
  },
  {
   "cell_type": "code",
   "execution_count": 87,
   "metadata": {},
   "outputs": [],
   "source": [
    "def load_agent(agent, path_to_pkl=\"./models/agent.pkl\"):\n",
    "    path_to_pkl = Path(path_to_pkl)\n",
    "    with open(path_to_pkl, 'rb') as f:\n",
    "        weight = pickle.load(f)['agent']\n",
    "    print(\"Agent loaded from\", path_to_pkl)\n",
    "    print(\"Agent type:\", type(weight))\n",
    "    agent.load({\"params\": weight})\n",
    "    return agent"
   ]
  },
  {
   "cell_type": "code",
   "execution_count": null,
   "metadata": {},
   "outputs": [],
   "source": [
    "path_to_pkl = Path(path_to_pkl)\n",
    "with open(path_to_pkl, 'rb') as f:\n",
    "    weight = pickle.load(f)['agent']\n",
    "print(\"Agent loaded from\", path_to_pkl)\n",
    "print(\"Agent type:\", type(weight))\n",
    "agent.load({\"params\": weight})\n"
   ]
  },
  {
   "cell_type": "code",
   "execution_count": 88,
   "metadata": {},
   "outputs": [],
   "source": [
    "def overwrite_func(agent: Agent):\n",
    "\n",
    "    # overwrite call function in decoder\n",
    "    new_dec_call = lambda carry, feat, reset, training, single=False: Agent.__call__(agent, carry, feat, reset, training, single=False)\n",
    "    agent.dec['simple'].__call__ = new_dec_call\n",
    "\n",
    "    # overwrite policy function in agent\n",
    "    new_agent_policy = lambda carry, obs, mode='train': Agent.policy(agent, carry, obs, mode='train')\n",
    "    agent.policy = new_agent_policy\n",
    "\n",
    "    return agent"
   ]
  },
  {
   "cell_type": "markdown",
   "metadata": {},
   "source": [
    "# Initialization"
   ]
  },
  {
   "cell_type": "code",
   "execution_count": 91,
   "metadata": {},
   "outputs": [
    {
     "name": "stdout",
     "output_type": "stream",
     "text": [
      "Replica: 0 / 1\n",
      "Run script: test\n",
      "Observations\n",
      "  image            Space(uint8, shape=(64, 64, 3), low=0, high=255)\n",
      "  reward           Space(float32, shape=(), low=-inf, high=inf)\n",
      "  is_first         Space(bool, shape=(), low=False, high=True)\n",
      "  is_last          Space(bool, shape=(), low=False, high=True)\n",
      "  is_terminal      Space(bool, shape=(), low=False, high=True)\n",
      "Actions\n",
      "  action           Space(int32, shape=(), low=0, high=17)\n",
      "Extras\n",
      "  consec           Space(int32, shape=(), low=-2147483648, high=2147483647)\n",
      "  stepid           Space(uint8, shape=(20,), low=0, high=255)\n",
      "  dyn/deter        Space(float32, shape=(8192,), low=-inf, high=inf)\n",
      "  dyn/stoch        Space(float32, shape=(32, 64), low=-inf, high=inf)\n"
     ]
    },
    {
     "ename": "AssertionError",
     "evalue": "",
     "output_type": "error",
     "traceback": [
      "\u001b[0;31m---------------------------------------------------------------------------\u001b[0m",
      "\u001b[0;31mAssertionError\u001b[0m                            Traceback (most recent call last)",
      "Cell \u001b[0;32mIn[91], line 18\u001b[0m\n\u001b[1;32m     14\u001b[0m env\u001b[38;5;241m.\u001b[39mclose()\n\u001b[1;32m     16\u001b[0m \u001b[38;5;66;03m# agent\u001b[39;00m\n\u001b[1;32m     17\u001b[0m \u001b[38;5;66;03m# adaptation from dreamerv3/main.py\u001b[39;00m\n\u001b[0;32m---> 18\u001b[0m agent \u001b[38;5;241m=\u001b[39m \u001b[43mAgent\u001b[49m\u001b[43m(\u001b[49m\u001b[43mobs_space\u001b[49m\u001b[43m,\u001b[49m\u001b[43m \u001b[49m\u001b[43mact_space\u001b[49m\u001b[43m,\u001b[49m\u001b[43m \u001b[49m\u001b[43melements\u001b[49m\u001b[38;5;241;43m.\u001b[39;49m\u001b[43mConfig\u001b[49m\u001b[43m(\u001b[49m\n\u001b[1;32m     19\u001b[0m \u001b[43m      \u001b[49m\u001b[38;5;241;43m*\u001b[39;49m\u001b[38;5;241;43m*\u001b[39;49m\u001b[43mconfig\u001b[49m\u001b[38;5;241;43m.\u001b[39;49m\u001b[43magent\u001b[49m\u001b[43m,\u001b[49m\n\u001b[1;32m     20\u001b[0m \u001b[43m      \u001b[49m\u001b[43mlogdir\u001b[49m\u001b[38;5;241;43m=\u001b[39;49m\u001b[43mconfig\u001b[49m\u001b[38;5;241;43m.\u001b[39;49m\u001b[43mlogdir\u001b[49m\u001b[43m,\u001b[49m\n\u001b[1;32m     21\u001b[0m \u001b[43m      \u001b[49m\u001b[43mseed\u001b[49m\u001b[38;5;241;43m=\u001b[39;49m\u001b[43mconfig\u001b[49m\u001b[38;5;241;43m.\u001b[39;49m\u001b[43mseed\u001b[49m\u001b[43m,\u001b[49m\n\u001b[1;32m     22\u001b[0m \u001b[43m      \u001b[49m\u001b[43mjax\u001b[49m\u001b[38;5;241;43m=\u001b[39;49m\u001b[43mconfig\u001b[49m\u001b[38;5;241;43m.\u001b[39;49m\u001b[43mjax\u001b[49m\u001b[43m,\u001b[49m\n\u001b[1;32m     23\u001b[0m \u001b[43m      \u001b[49m\u001b[43mbatch_size\u001b[49m\u001b[38;5;241;43m=\u001b[39;49m\u001b[43mconfig\u001b[49m\u001b[38;5;241;43m.\u001b[39;49m\u001b[43mbatch_size\u001b[49m\u001b[43m,\u001b[49m\n\u001b[1;32m     24\u001b[0m \u001b[43m      \u001b[49m\u001b[43mbatch_length\u001b[49m\u001b[38;5;241;43m=\u001b[39;49m\u001b[43mconfig\u001b[49m\u001b[38;5;241;43m.\u001b[39;49m\u001b[43mbatch_length\u001b[49m\u001b[43m,\u001b[49m\n\u001b[1;32m     25\u001b[0m \u001b[43m      \u001b[49m\u001b[43mreplay_context\u001b[49m\u001b[38;5;241;43m=\u001b[39;49m\u001b[43mconfig\u001b[49m\u001b[38;5;241;43m.\u001b[39;49m\u001b[43mreplay_context\u001b[49m\u001b[43m,\u001b[49m\n\u001b[1;32m     26\u001b[0m \u001b[43m      \u001b[49m\u001b[43mreport_length\u001b[49m\u001b[38;5;241;43m=\u001b[39;49m\u001b[43mconfig\u001b[49m\u001b[38;5;241;43m.\u001b[39;49m\u001b[43mreport_length\u001b[49m\u001b[43m,\u001b[49m\n\u001b[1;32m     27\u001b[0m \u001b[43m      \u001b[49m\u001b[43mreplica\u001b[49m\u001b[38;5;241;43m=\u001b[39;49m\u001b[43mconfig\u001b[49m\u001b[38;5;241;43m.\u001b[39;49m\u001b[43mreplica\u001b[49m\u001b[43m,\u001b[49m\n\u001b[1;32m     28\u001b[0m \u001b[43m      \u001b[49m\u001b[43mreplicas\u001b[49m\u001b[38;5;241;43m=\u001b[39;49m\u001b[43mconfig\u001b[49m\u001b[38;5;241;43m.\u001b[39;49m\u001b[43mreplicas\u001b[49m\u001b[43m,\u001b[49m\n\u001b[1;32m     29\u001b[0m \u001b[43m  \u001b[49m\u001b[43m)\u001b[49m\u001b[43m)\u001b[49m\n\u001b[1;32m     30\u001b[0m TEST \u001b[38;5;241m=\u001b[39m \u001b[38;5;124m\"\u001b[39m\u001b[38;5;124m./models/checkpoint_test.pkl\u001b[39m\u001b[38;5;124m\"\u001b[39m\n\u001b[1;32m     31\u001b[0m agent \u001b[38;5;241m=\u001b[39m load_agent(TEST)\n",
      "File \u001b[0;32m~/Documents/MyProjects/world_model_language/dreamerv3/embodied/jax/agent.py:47\u001b[0m, in \u001b[0;36mAgent.__new__\u001b[0;34m(subcls, obs_space, act_space, config)\u001b[0m\n\u001b[1;32m     45\u001b[0m model\u001b[38;5;241m.\u001b[39m\u001b[38;5;21m__init__\u001b[39m(obs_space, act_space, config)\n\u001b[1;32m     46\u001b[0m outer \u001b[38;5;241m=\u001b[39m \u001b[38;5;28msuper\u001b[39m()\u001b[38;5;241m.\u001b[39m\u001b[38;5;21m__new__\u001b[39m(Agent)\n\u001b[0;32m---> 47\u001b[0m \u001b[43mouter\u001b[49m\u001b[38;5;241;43m.\u001b[39;49m\u001b[38;5;21;43m__init__\u001b[39;49m\u001b[43m(\u001b[49m\u001b[43mmodel\u001b[49m\u001b[43m,\u001b[49m\u001b[43m \u001b[49m\u001b[43mobs_space\u001b[49m\u001b[43m,\u001b[49m\u001b[43m \u001b[49m\u001b[43mact_space\u001b[49m\u001b[43m,\u001b[49m\u001b[43m \u001b[49m\u001b[43mconfig\u001b[49m\u001b[43m,\u001b[49m\u001b[43m \u001b[49m\u001b[43mjaxcfg\u001b[49m\u001b[43m)\u001b[49m\n\u001b[1;32m     48\u001b[0m \u001b[38;5;28;01mreturn\u001b[39;00m outer\n",
      "File \u001b[0;32m~/Documents/MyProjects/world_model_language/dreamerv3/embodied/jax/agent.py:72\u001b[0m, in \u001b[0;36mAgent.__init__\u001b[0;34m(self, model, obs_space, act_space, config, jaxcfg)\u001b[0m\n\u001b[1;32m     69\u001b[0m \u001b[38;5;28;01massert\u001b[39;00m \u001b[38;5;129;01mnot\u001b[39;00m (obs_space\u001b[38;5;241m.\u001b[39mkeys() \u001b[38;5;241m&\u001b[39m ext_space\u001b[38;5;241m.\u001b[39mkeys()), (obs_space, ext_space)\n\u001b[1;32m     70\u001b[0m \u001b[38;5;28;01massert\u001b[39;00m \u001b[38;5;129;01mnot\u001b[39;00m (act_space\u001b[38;5;241m.\u001b[39mkeys() \u001b[38;5;241m&\u001b[39m ext_space\u001b[38;5;241m.\u001b[39mkeys()), (act_space, ext_space)\n\u001b[0;32m---> 72\u001b[0m available \u001b[38;5;241m=\u001b[39m \u001b[43mjax\u001b[49m\u001b[38;5;241;43m.\u001b[39;49m\u001b[43mdevices\u001b[49m\u001b[43m(\u001b[49m\u001b[43m)\u001b[49m\n\u001b[1;32m     73\u001b[0m elements\u001b[38;5;241m.\u001b[39mprint(\u001b[38;5;124mf\u001b[39m\u001b[38;5;124m'\u001b[39m\u001b[38;5;124mJAX devices (\u001b[39m\u001b[38;5;132;01m{\u001b[39;00mjax\u001b[38;5;241m.\u001b[39mdevice_count()\u001b[38;5;132;01m}\u001b[39;00m\u001b[38;5;124m):\u001b[39m\u001b[38;5;124m'\u001b[39m, available)\n\u001b[1;32m     74\u001b[0m \u001b[38;5;28;01mif\u001b[39;00m \u001b[38;5;28mself\u001b[39m\u001b[38;5;241m.\u001b[39mjaxcfg\u001b[38;5;241m.\u001b[39mexpect_devices \u001b[38;5;241m>\u001b[39m \u001b[38;5;241m0\u001b[39m:\n",
      "File \u001b[0;32m~/Documents/MyProjects/world_model_language/.venv/lib/python3.10/site-packages/jax/_src/xla_bridge.py:1115\u001b[0m, in \u001b[0;36mdevices\u001b[0;34m(backend)\u001b[0m\n\u001b[1;32m   1090\u001b[0m \u001b[38;5;28;01mdef\u001b[39;00m\u001b[38;5;250m \u001b[39m\u001b[38;5;21mdevices\u001b[39m(\n\u001b[1;32m   1091\u001b[0m     backend: \u001b[38;5;28mstr\u001b[39m \u001b[38;5;241m|\u001b[39m xla_client\u001b[38;5;241m.\u001b[39mClient \u001b[38;5;241m|\u001b[39m \u001b[38;5;28;01mNone\u001b[39;00m \u001b[38;5;241m=\u001b[39m \u001b[38;5;28;01mNone\u001b[39;00m\n\u001b[1;32m   1092\u001b[0m ) \u001b[38;5;241m-\u001b[39m\u001b[38;5;241m>\u001b[39m \u001b[38;5;28mlist\u001b[39m[xla_client\u001b[38;5;241m.\u001b[39mDevice]:\n\u001b[1;32m   1093\u001b[0m \u001b[38;5;250m  \u001b[39m\u001b[38;5;124;03m\"\"\"Returns a list of all devices for a given backend.\u001b[39;00m\n\u001b[1;32m   1094\u001b[0m \n\u001b[1;32m   1095\u001b[0m \u001b[38;5;124;03m  .. currentmodule:: jaxlib.xla_extension\u001b[39;00m\n\u001b[0;32m   (...)\u001b[0m\n\u001b[1;32m   1113\u001b[0m \u001b[38;5;124;03m    List of Device subclasses.\u001b[39;00m\n\u001b[1;32m   1114\u001b[0m \u001b[38;5;124;03m  \"\"\"\u001b[39;00m\n\u001b[0;32m-> 1115\u001b[0m   \u001b[38;5;28;01mreturn\u001b[39;00m \u001b[43mget_backend\u001b[49m\u001b[43m(\u001b[49m\u001b[43mbackend\u001b[49m\u001b[43m)\u001b[49m\u001b[38;5;241m.\u001b[39mdevices()\n",
      "File \u001b[0;32m~/Documents/MyProjects/world_model_language/.venv/lib/python3.10/site-packages/jax/_src/xla_bridge.py:1049\u001b[0m, in \u001b[0;36mget_backend\u001b[0;34m(platform)\u001b[0m\n\u001b[1;32m   1045\u001b[0m \u001b[38;5;129m@lru_cache\u001b[39m(maxsize\u001b[38;5;241m=\u001b[39m\u001b[38;5;28;01mNone\u001b[39;00m)  \u001b[38;5;66;03m# don't use util.memoize because there is no X64 dependence.\u001b[39;00m\n\u001b[1;32m   1046\u001b[0m \u001b[38;5;28;01mdef\u001b[39;00m\u001b[38;5;250m \u001b[39m\u001b[38;5;21mget_backend\u001b[39m(\n\u001b[1;32m   1047\u001b[0m     platform: \u001b[38;5;28;01mNone\u001b[39;00m \u001b[38;5;241m|\u001b[39m \u001b[38;5;28mstr\u001b[39m \u001b[38;5;241m|\u001b[39m xla_client\u001b[38;5;241m.\u001b[39mClient \u001b[38;5;241m=\u001b[39m \u001b[38;5;28;01mNone\u001b[39;00m\n\u001b[1;32m   1048\u001b[0m ) \u001b[38;5;241m-\u001b[39m\u001b[38;5;241m>\u001b[39m xla_client\u001b[38;5;241m.\u001b[39mClient:\n\u001b[0;32m-> 1049\u001b[0m   \u001b[38;5;28;01mreturn\u001b[39;00m \u001b[43m_get_backend_uncached\u001b[49m\u001b[43m(\u001b[49m\u001b[43mplatform\u001b[49m\u001b[43m)\u001b[49m\n",
      "File \u001b[0;32m~/Documents/MyProjects/world_model_language/.venv/lib/python3.10/site-packages/jax/_src/xla_bridge.py:1028\u001b[0m, in \u001b[0;36m_get_backend_uncached\u001b[0;34m(platform)\u001b[0m\n\u001b[1;32m   1024\u001b[0m   \u001b[38;5;28;01mreturn\u001b[39;00m platform\n\u001b[1;32m   1026\u001b[0m platform \u001b[38;5;241m=\u001b[39m (platform \u001b[38;5;129;01mor\u001b[39;00m _XLA_BACKEND\u001b[38;5;241m.\u001b[39mvalue \u001b[38;5;129;01mor\u001b[39;00m _PLATFORM_NAME\u001b[38;5;241m.\u001b[39mvalue \u001b[38;5;129;01mor\u001b[39;00m \u001b[38;5;28;01mNone\u001b[39;00m)\n\u001b[0;32m-> 1028\u001b[0m bs \u001b[38;5;241m=\u001b[39m \u001b[43mbackends\u001b[49m\u001b[43m(\u001b[49m\u001b[43m)\u001b[49m\n\u001b[1;32m   1029\u001b[0m \u001b[38;5;28;01mif\u001b[39;00m platform \u001b[38;5;129;01mis\u001b[39;00m \u001b[38;5;129;01mnot\u001b[39;00m \u001b[38;5;28;01mNone\u001b[39;00m:\n\u001b[1;32m   1030\u001b[0m   platform \u001b[38;5;241m=\u001b[39m canonicalize_platform(platform)\n",
      "File \u001b[0;32m~/Documents/MyProjects/world_model_language/.venv/lib/python3.10/site-packages/jax/_src/xla_bridge.py:935\u001b[0m, in \u001b[0;36mbackends\u001b[0;34m()\u001b[0m\n\u001b[1;32m    932\u001b[0m         err_msg \u001b[38;5;241m+\u001b[39m\u001b[38;5;241m=\u001b[39m \u001b[38;5;124m\"\u001b[39m\u001b[38;5;124m (you may need to uninstall the failing plugin package, or set JAX_PLATFORMS=cpu to skip this backend.)\u001b[39m\u001b[38;5;124m\"\u001b[39m\n\u001b[1;32m    933\u001b[0m       \u001b[38;5;28;01mraise\u001b[39;00m \u001b[38;5;167;01mRuntimeError\u001b[39;00m(err_msg)\n\u001b[0;32m--> 935\u001b[0m \u001b[38;5;28;01massert\u001b[39;00m _default_backend \u001b[38;5;129;01mis\u001b[39;00m \u001b[38;5;129;01mnot\u001b[39;00m \u001b[38;5;28;01mNone\u001b[39;00m\n\u001b[1;32m    936\u001b[0m \u001b[38;5;28;01mif\u001b[39;00m \u001b[38;5;129;01mnot\u001b[39;00m config\u001b[38;5;241m.\u001b[39mjax_platforms\u001b[38;5;241m.\u001b[39mvalue:\n\u001b[1;32m    937\u001b[0m   _suggest_missing_backends()\n",
      "\u001b[0;31mAssertionError\u001b[0m: "
     ]
    }
   ],
   "source": [
    "config = load_config()\n",
    "\n",
    "# environment\n",
    "SEED = 0\n",
    "TASK = \"reward\"\n",
    "INDEX = 0\n",
    "seed = hash((SEED, INDEX)) % (2 ** 32 - 1)\n",
    "env = crafter.Crafter(seed=seed, task=TASK)\n",
    "  # adaptation from dreamerv3/main.py\n",
    "notlog = lambda k: not k.startswith('log/')\n",
    "obs_space = {k: v for k, v in env.obs_space.items() if notlog(k)}\n",
    "act_space = {k: v for k, v in env.act_space.items() if k != 'reset'}\n",
    "\n",
    "env.close()\n",
    "\n",
    "# agent\n",
    "# adaptation from dreamerv3/main.py\n",
    "agent = Agent(obs_space, act_space, elements.Config(\n",
    "      **config.agent,\n",
    "      logdir=config.logdir,\n",
    "      seed=config.seed,\n",
    "      jax=config.jax,\n",
    "      batch_size=config.batch_size,\n",
    "      batch_length=config.batch_length,\n",
    "      replay_context=config.replay_context,\n",
    "      report_length=config.report_length,\n",
    "      replica=config.replica,\n",
    "      replicas=config.replicas,\n",
    "  ))\n",
    "TEST = \"./models/checkpoint_test.pkl\"\n",
    "agent = load_agent(TEST)\n",
    "# agent = overwrite_func(agent)"
   ]
  },
  {
   "cell_type": "code",
   "execution_count": 28,
   "metadata": {},
   "outputs": [
    {
     "name": "stdout",
     "output_type": "stream",
     "text": [
      "1066 1066\n"
     ]
    }
   ],
   "source": [
    "# dataset\n",
    "img_pos, img_epi = load_dataset(\"./test/\")\n",
    "print(len(img_pos), len(img_epi))\n",
    "assert len(img_pos) == len(img_epi)\n",
    "\n",
    "BSIZE = config.batch_size\n",
    "dl_space = DataLoader(img_pos, batch_size=BSIZE, shuffle=True)\n",
    "dl_time = DataLoader(img_epi, batch_size=BSIZE, shuffle=True)"
   ]
  },
  {
   "cell_type": "code",
   "execution_count": 10,
   "metadata": {},
   "outputs": [
    {
     "name": "stdout",
     "output_type": "stream",
     "text": [
      "dict_keys(['image', 'pos'])\n",
      "torch.Size([16, 64, 64, 3]) torch.Size([16, 2])\n",
      "tensor([[20, 23],\n",
      "        [27, 47],\n",
      "        [99, 76],\n",
      "        [96, 41],\n",
      "        [50, 34],\n",
      "        [32, 87],\n",
      "        [45, 23],\n",
      "        [29, 84],\n",
      "        [23, 65],\n",
      "        [31, 58],\n",
      "        [35,  7],\n",
      "        [35, 28],\n",
      "        [68, 19],\n",
      "        [56, 68],\n",
      "        [98, 82],\n",
      "        [91, 87]], dtype=torch.int32)\n",
      "dict_keys(['image', 'pos'])\n",
      "torch.Size([16, 64, 64, 3]) torch.Size([16, 2])\n",
      "tensor([[99, 46],\n",
      "        [95, 76],\n",
      "        [72, 74],\n",
      "        [ 8, 44],\n",
      "        [60, 95],\n",
      "        [42, 94],\n",
      "        [58, 40],\n",
      "        [ 4, 50],\n",
      "        [40, 97],\n",
      "        [58, 99],\n",
      "        [52, 22],\n",
      "        [89, 26],\n",
      "        [66, 31],\n",
      "        [36, 44],\n",
      "        [57, 43],\n",
      "        [59, 34]], dtype=torch.int32)\n"
     ]
    }
   ],
   "source": [
    "# test = [{\"image\": np.random.randint(0, 255, (64, 64, 3), dtype=np.uint8), \"pos\": np.random.randint(0, 100, (2,), dtype=np.int32)} for _ in range(32)]\n",
    "# BSIZE = 16\n",
    "\n",
    "# dl_space = DataLoader(test, batch_size=BSIZE, shuffle=True)\n",
    "\n",
    "# for batch in dl_space:\n",
    "#     print(batch.keys())\n",
    "#     print(batch['image'].shape, batch['pos'].shape)\n",
    "#     print(batch['pos'])"
   ]
  },
  {
   "cell_type": "markdown",
   "metadata": {},
   "source": [
    "# Activations"
   ]
  },
  {
   "cell_type": "code",
   "execution_count": null,
   "metadata": {},
   "outputs": [],
   "source": []
  },
  {
   "cell_type": "markdown",
   "metadata": {},
   "source": [
    "## spatial activations "
   ]
  },
  {
   "cell_type": "code",
   "execution_count": null,
   "metadata": {},
   "outputs": [],
   "source": [
    "carry = agent.init_policy(batch_size=BSIZE)\n",
    "\n",
    "path_to_save = Path('./dataset/act/')\n",
    "\n",
    "for idx, batch in enumerate(tqdm.tqdm(dl_space)):\n",
    "    img = batch['image'].numpy()\n",
    "    pos = batch['pos'].numpy()\n",
    "    img = sg(img)\n",
    "    pos = sg(pos)\n",
    "    \n",
    "    assert type(img) == np.ndarray, type(img)\n",
    "    assert type(pos) == np.ndarray, type(pos)\n",
    "    \n",
    "    carry = sg(carry)\n",
    "\n",
    "    carry, act, out, activations = agent(carry, img, training=False)\n",
    "\n",
    "    deter = activations['dynamic']['deter']\n",
    "    stoch = activations['dynamic']['stoch']\n",
    "    logit = activations['dynamic']['logit']\n",
    "\n",
    "    deter = np.array(sg(deter))\n",
    "    stoch = np.array(sg(stoch))\n",
    "    logit = np.array(sg(logit))\n",
    "    enc = np.array(sg(activations['encoder']))\n",
    "    dec = np.array(sg(activations['decoder']))\n",
    "    pol = np.array(sg(activations['policy']))\n",
    "\n",
    "    print(deter.shape, stoch.shape, logit.shape, enc.shape, dec.shape, pol.shape)\n",
    "    \n",
    "    np.savez_compressed(\n",
    "        path_to_save / f'idx{idx}.npz', \n",
    "        img=img, \n",
    "        pos=pos, \n",
    "        deter=deter, \n",
    "        stoch=stoch, \n",
    "        logit=logit, \n",
    "        enc=enc, \n",
    "        dec=dec, \n",
    "        pol=pol\n",
    "    )"
   ]
  },
  {
   "cell_type": "markdown",
   "metadata": {},
   "source": [
    "## time activations"
   ]
  },
  {
   "cell_type": "code",
   "execution_count": null,
   "metadata": {},
   "outputs": [],
   "source": [
    "carry = agent.init_policy(batch_size=BSIZE)\n",
    "\n",
    "path_to_save = Path('./dataset/act/')\n",
    "\n",
    "for idx, batch in enumerate(tqdm.tqdm(dl_time)):\n",
    "    img = batch['image'].numpy()\n",
    "    pos = batch['pos'].numpy()\n",
    "    img = sg(img)\n",
    "    pos = sg(pos)\n",
    "    \n",
    "    assert type(img) == np.ndarray, type(img)\n",
    "    assert type(pos) == np.ndarray, type(pos)\n",
    "    \n",
    "    carry = sg(carry)\n",
    "\n",
    "    carry, act, out, activations = agent(carry, img, training=False)\n",
    "\n",
    "    deter = activations['dynamic']['deter']\n",
    "    stoch = activations['dynamic']['stoch']\n",
    "    logit = activations['dynamic']['logit']\n",
    "\n",
    "    deter = np.array(sg(deter))\n",
    "    stoch = np.array(sg(stoch))\n",
    "    logit = np.array(sg(logit))\n",
    "    enc = np.array(sg(activations['encoder']))\n",
    "    dec = np.array(sg(activations['decoder']))\n",
    "    pol = np.array(sg(activations['policy']))\n",
    "\n",
    "    print(deter.shape, stoch.shape, logit.shape, enc.shape, dec.shape, pol.shape)\n",
    "    \n",
    "    np.savez_compressed(\n",
    "        path_to_save / f'idx{idx}.npz', \n",
    "        img=img, \n",
    "        pos=pos, \n",
    "        deter=deter, \n",
    "        stoch=stoch, \n",
    "        logit=logit, \n",
    "        enc=enc, \n",
    "        dec=dec, \n",
    "        pol=pol\n",
    "    )"
   ]
  },
  {
   "cell_type": "markdown",
   "metadata": {},
   "source": []
  }
 ],
 "metadata": {
  "kernelspec": {
   "display_name": ".venv",
   "language": "python",
   "name": "python3"
  },
  "language_info": {
   "codemirror_mode": {
    "name": "ipython",
    "version": 3
   },
   "file_extension": ".py",
   "mimetype": "text/x-python",
   "name": "python",
   "nbconvert_exporter": "python",
   "pygments_lexer": "ipython3",
   "version": "3.10.14"
  }
 },
 "nbformat": 4,
 "nbformat_minor": 2
}
