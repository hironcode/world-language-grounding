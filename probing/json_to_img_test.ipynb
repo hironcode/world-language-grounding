{
 "cells": [
  {
   "cell_type": "code",
   "execution_count": 14,
   "id": "e09da050-64a9-44f2-b0f2-b65ee2a1b759",
   "metadata": {},
   "outputs": [],
   "source": [
    "import numpy as np\n",
    "from PIL import Image\n",
    "import json"
   ]
  },
  {
   "cell_type": "code",
   "execution_count": 15,
   "id": "73abb235-8d5d-4a30-9e63-6149734cd6fb",
   "metadata": {},
   "outputs": [],
   "source": [
    "path = \"logdir/crafter/20250111T042844/env0/stats.jsonl\"\n",
    "with open(path, 'r') as f:\n",
    "    data = [json.loads(line) for line in f]"
   ]
  },
  {
   "cell_type": "code",
   "execution_count": 25,
   "id": "d111f8f6-9e71-40d1-8166-2f7be7442ca2",
   "metadata": {},
   "outputs": [
    {
     "data": {
      "text/plain": [
       "(64, 64, 3)"
      ]
     },
     "execution_count": 25,
     "metadata": {},
     "output_type": "execute_result"
    }
   ],
   "source": [
    "img_list = data[0]['image']\n",
    "img_np = np.array(img_list, dtype=np.uint8)\n",
    "img_np = img_np.transpose((1, 0, 2))\n",
    "img_np.shape"
   ]
  },
  {
   "cell_type": "code",
   "execution_count": 27,
   "id": "1b9bb0b9-7cb7-454c-8dc1-2a69eba57971",
   "metadata": {},
   "outputs": [
    {
     "data": {
      "image/jpeg": "[encoded data removed]",
      "image/png": "[encoded data removed]",
      "text/plain": [
       "<PIL.Image.Image image mode=RGB size=64x64>"
      ]
     },
     "metadata": {},
     "output_type": "display_data"
    }
   ],
   "source": [
    "img = Image.fromarray(img_np, 'RGB')\n",
    "img.save('crafter_img_test.png')\n",
    "img.show()"
   ]
  },
  {
   "cell_type": "code",
   "execution_count": null,
   "id": "a511f99a-4aad-40db-a9a6-09ab765409a0",
   "metadata": {},
   "outputs": [],
   "source": []
  }
 ],
 "metadata": {
  "kernelspec": {
   "display_name": "Python 3 (ipykernel)",
   "language": "python",
   "name": "python3"
  },
  "language_info": {
   "codemirror_mode": {
    "name": "ipython",
    "version": 3
   },
   "file_extension": ".py",
   "mimetype": "text/x-python",
   "name": "python",
   "nbconvert_exporter": "python",
   "pygments_lexer": "ipython3",
   "version": "3.10.12"
  }
 },
 "nbformat": 4,
 "nbformat_minor": 5
}
