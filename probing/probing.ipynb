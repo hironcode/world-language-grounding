{
 "cells": [
  {
   "cell_type": "markdown",
   "metadata": {},
   "source": [
    "上から順番に実行"
   ]
  },
  {
   "cell_type": "code",
   "execution_count": null,
   "metadata": {},
   "outputs": [],
   "source": [
    "import os\n",
    "import json\n",
    "import tqdm\n",
    "import torch\n",
    "import pickle\n",
    "import numpy as np\n",
    "import pandas as pd\n",
    "from mlp import *\n",
    "from evaluation import *\n",
    "from utils import timestamp\n",
    "from collections import namedtuple\n",
    "from sklearn.linear_model import Ridge, RidgeCV\n",
    "from sklearn.model_selection import train_test_split\n",
    "\n",
    "SEED = 0"
   ]
  },
  {
   "cell_type": "markdown",
   "metadata": {},
   "source": [
    "## activationの読み込み"
   ]
  },
  {
   "cell_type": "code",
   "execution_count": null,
   "metadata": {},
   "outputs": [],
   "source": [
    "def load_activation_probing_dataset(layer, is_place):\n",
    "    if is_place:\n",
    "        file_path = \"./dataset/act/space.npz\"\n",
    "    else: \n",
    "        file_path = \"./dataset/act/time.npz\"\n",
    "    with np.load(file_path) as f:\n",
    "        if layer==0:\n",
    "            activations = f[\"deters\"]\n",
    "        elif layer==1:\n",
    "            activations = f[\"stochs\"]\n",
    "        # elif layer==2:\n",
    "        #     activations = f[\"logit\"]\n",
    "        # elif layer==3:\n",
    "        #     activations = f[\"enc\"]\n",
    "        # elif layer==4:\n",
    "        #     activations = f[\"dec\"]\n",
    "        # elif layer==5:\n",
    "        #     activations = f[\"pol\"]\n",
    "        else:\n",
    "            raise ValueError(\"[original] There is no layer with activations.\")\n",
    "    return activations"
   ]
  },
  {
   "cell_type": "markdown",
   "metadata": {},
   "source": [
    "## probeの保存"
   ]
  },
  {
   "cell_type": "code",
   "execution_count": null,
   "metadata": {},
   "outputs": [],
   "source": [
    "def save_probe_results(is_place, is_linear, probe_results):\n",
    "    save_path = os.path.join(\n",
    "        os.getenv('RESULTS_DIR', 'results')\n",
    "    )\n",
    "    os.makedirs(save_path, exist_ok=True)\n",
    "\n",
    "    model_name = 'linear' if is_linear else 'mlp'\n",
    "    objective = 'place' if is_place else 'time'\n",
    "\n",
    "    probe_name = f'probing_{model_name}_{objective}.p'\n",
    "\n",
    "    pickle.dump(\n",
    "        probe_results,\n",
    "        open(os.path.join(save_path, probe_name), 'wb')\n",
    "    )"
   ]
  },
  {
   "cell_type": "markdown",
   "metadata": {},
   "source": [
    "## 時空間情報のprobing関数"
   ]
  },
  {
   "cell_type": "code",
   "execution_count": null,
   "metadata": {},
   "outputs": [],
   "source": [
    "def probe_experiment(activations, target, is_place, probe=None):\n",
    "    indices = np.arange(len(activations))\n",
    "    (\n",
    "        train_activations, \n",
    "        test_activations,\n",
    "        train_target,\n",
    "        test_target,\n",
    "        train_indices,\n",
    "        test_indices,\n",
    "    ) = train_test_split(activations, target, indices, test_size=0.2, random_state=SEED)\n",
    "        \n",
    "    is_test = np.full(activations.shape[0], False)\n",
    "    # test_indices = np.isin(activations, test_activations).all(axis=1)  # check\n",
    "    is_test[test_indices] = True\n",
    "\n",
    "    # train_target = target[~is_test]\n",
    "    # test_target = target[is_test]\n",
    "\n",
    "    norm_train_target = (train_target - train_target.mean(axis=0)) / train_target.std(axis=0)\n",
    "\n",
    "    if probe is None:\n",
    "        # activations.shapeの確認\n",
    "        probe = Ridge(alpha=activations.shape[1])\n",
    "\n",
    "    probe.fit(train_activations, norm_train_target)\n",
    "\n",
    "    train_pred = probe.predict(train_activations)\n",
    "    test_pred = probe.predict(test_activations)\n",
    "\n",
    "    if is_place:\n",
    "        train_pred_unnorm = train_pred * train_target.std(axis=0) + train_target.mean(axis=0)\n",
    "        test_pred_unnorm = test_pred * train_target.std(axis=0) + train_target.mean(axis=0)\n",
    "\n",
    "        projection = probe.predict(activations) * train_target.std(axis=0) + train_target.mean(axis=0)\n",
    "\n",
    "        train_scores = score_place_probe(train_target, train_pred_unnorm)\n",
    "        test_scores = score_place_probe(test_target, test_pred_unnorm)\n",
    "    else:\n",
    "        train_pred_unnorm = train_pred * train_target.std() + train_target.mean()\n",
    "        test_pred_unnorm = test_pred * train_target.std() + train_target.mean()\n",
    "\n",
    "        projection = probe.predict(activations) * train_target.std() + train_target.mean()\n",
    "\n",
    "        train_scores = score_time_probe(train_target, train_pred_unnorm)\n",
    "        test_scores = score_time_probe(test_target, test_pred_unnorm)\n",
    "\n",
    "    scores = {\n",
    "        **{('train', k): v for k, v in train_scores.items()},\n",
    "        **{('test', k): v for k, v in test_scores.items()},\n",
    "    }\n",
    "\n",
    "    error_matrix = compute_proximity_error_matrix(target, projection, is_place)\n",
    "\n",
    "    train_error, test_error, combined_error = proximity_scores(error_matrix, is_test)\n",
    "    scores['train', 'prox_error'] = train_error.mean()\n",
    "    scores['test', 'prox_error'] = test_error.mean()\n",
    "\n",
    "    if is_place:\n",
    "        projection_df = pd.DataFrame({\n",
    "            'x': projection[:, 0],\n",
    "            'y': projection[:, 1],\n",
    "            'is_test': is_test,\n",
    "            'x_error': projection[:, 0] - target[:, 0],\n",
    "            'y_error': projection[:, 1] - target[:, 1],\n",
    "            'prox_error': combined_error,\n",
    "        })\n",
    "    else:\n",
    "        target = target.ravel()\n",
    "        projection_df = pd.DataFrame({\n",
    "            'projection': projection,\n",
    "            'is_test': is_test,\n",
    "            'error': projection - target,\n",
    "            'prox_error': combined_error,\n",
    "        })\n",
    "\n",
    "    return probe, scores, projection_df"
   ]
  },
  {
   "cell_type": "code",
   "execution_count": null,
   "metadata": {},
   "outputs": [],
   "source": [
    "def get_target_values(is_place):\n",
    "    target = []\n",
    "    if is_place:\n",
    "        file_path = \"./dataset/act/space.npz\"\n",
    "    else: \n",
    "        file_path = \"./dataset/act/time.npz\"\n",
    "    with np.load(file_path) as f:\n",
    "        if is_place:\n",
    "            target = f[\"positions\"]\n",
    "        else:\n",
    "            target = f[\"episodes\"]\n",
    "\n",
    "    target = torch.from_numpy(target)\n",
    "\n",
    "    if is_place:\n",
    "        target = target.view(-1, 2).numpy()\n",
    "    else:\n",
    "        target = target.view(-1, 1).numpy()\n",
    "\n",
    "    target = pd.DataFrame(target).values\n",
    "    return target"
   ]
  },
  {
   "cell_type": "markdown",
   "metadata": {},
   "source": [
    "## メインprobing関数"
   ]
  },
  {
   "cell_type": "code",
   "execution_count": null,
   "metadata": {},
   "outputs": [],
   "source": [
    "D = namedtuple(\"Def\", \"N_LAYERS DETERS STOCHS\")(\n",
    "    N_LAYERS = 2, # encoder, rssm(=deter, stoch, logits), decoder, policy => rssm(=deter, stoch)\n",
    "    DETERS = 0,\n",
    "    STOCHS = 1\n",
    ")"
   ]
  },
  {
   "cell_type": "markdown",
   "metadata": {},
   "source": [
    "線形回帰モデル"
   ]
  },
  {
   "cell_type": "code",
   "execution_count": null,
   "metadata": {},
   "outputs": [],
   "source": [
    "def linear_probe_experiment(is_place):\n",
    "    n_layers = D.N_LAYERS\n",
    "\n",
    "    results = {\n",
    "        'scores': {},\n",
    "        'projections': {},\n",
    "        'probe_directions': {},\n",
    "        'probe_biases': {},\n",
    "        'probe_alphas': {},\n",
    "    }\n",
    "\n",
    "    for layer in tqdm.tqdm(range(n_layers)):\n",
    "        activations = load_activation_probing_dataset(layer, is_place)\n",
    "\n",
    "        if layer==D.DETERS:\n",
    "            size = activations.shape[2]\n",
    "        elif layer==D.STOCHS:\n",
    "            size = activations.shape[2] * activations.shape[3]\n",
    "        \n",
    "        activations = torch.from_numpy(activations).dequantize().view(-1, size)\n",
    "\n",
    "        if activations.isnan().any():\n",
    "            print(timestamp(), 'WARNING: nan activations, skipping layer', layer)\n",
    "            continue\n",
    "\n",
    "        activations = activations.numpy()\n",
    "\n",
    "        target = get_target_values(is_place)\n",
    "\n",
    "        #TODO: alpha値の設定\n",
    "        probe = RidgeCV(alphas=np.logspace(0.8, 4.1, 12), store_cv_values=True)\n",
    "\n",
    "        probe, scores, projection = probe_experiment(activations, target, is_place, probe=probe)\n",
    "        \n",
    "        probe_direction = probe.coef_.T.astype(np.float16)\n",
    "        probe_alphas = probe.cv_values_.mean(axis=(0, 1) if is_place else 0)\n",
    "\n",
    "        results['scores'][layer] = scores\n",
    "        results['projections'][layer] = projection\n",
    "        results['probe_directions'][layer] = probe_direction\n",
    "        results['probe_biases'][layer] = probe.intercept_\n",
    "        results['probe_alphas'][layer] = probe_alphas\n",
    "\n",
    "    save_probe_results(is_place, True, results)"
   ]
  },
  {
   "cell_type": "markdown",
   "metadata": {},
   "source": [
    "MLP"
   ]
  },
  {
   "cell_type": "code",
   "execution_count": null,
   "metadata": {},
   "outputs": [],
   "source": [
    "MLP_PARAM_DICT = {\n",
    "    'weight_decay': [0.01, 0.03, 0.1, 0.3]\n",
    "}\n",
    "\n",
    "def mlp_experiment(activations, target, is_place):\n",
    "    ridge_probe = RidgeCV(alphas=np.logspace(3, 4.5, 12), store_cv_values=True)\n",
    "\n",
    "    probe, ridge_scores, ridge_projection_df = probe_experiment(\n",
    "            activations, target, is_place, probe=ridge_probe)\n",
    "    probe_cv_values = probe.cv_values_.mean(axis=((0, 1) if is_place else 0))\n",
    "\n",
    "    mlp_results = {}\n",
    "    val_scores = []\n",
    "    for wd in MLP_PARAM_DICT['weight_decay']:\n",
    "        mlp_probe = MLPRegressor(\n",
    "            input_size=activations.shape[-1],\n",
    "            output_size=2 if is_place else 1,\n",
    "            hidden_size=256,\n",
    "            patience=3,\n",
    "            learning_rate=1e-3,\n",
    "            weight_decay=wd\n",
    "        )\n",
    "\n",
    "        probe, mlp_scores, mlp_projection_df = probe_experiment(\n",
    "            activations, target, is_place, probe=mlp_probe)\n",
    "\n",
    "        val_scores.append(min(probe.validation_scores))\n",
    "        mlp_results[wd] = (mlp_scores, mlp_projection_df)\n",
    "\n",
    "    best_mlp_wd = MLP_PARAM_DICT['weight_decay'][np.argmin(val_scores)]\n",
    "    mlp_scores, mlp_projection_df = mlp_results[best_mlp_wd]\n",
    "\n",
    "    results = {\n",
    "        'ridge_scores': ridge_scores,\n",
    "        'mlp_scores': mlp_scores,\n",
    "        'ridge_prediction_df': ridge_projection_df,\n",
    "        'mlp_prediction_df': mlp_projection_df,\n",
    "        'ridge_cv_values': probe_cv_values,\n",
    "        'mlp_validation_scores': val_scores\n",
    "    }\n",
    "    return results"
   ]
  },
  {
   "cell_type": "code",
   "execution_count": null,
   "metadata": {},
   "outputs": [],
   "source": [
    "def mlp_probe_experiment(is_place):\n",
    "    n_layers = D.N_LAYERS\n",
    "\n",
    "    results = {}\n",
    "    for layer in tqdm.tqdm(range(n_layers)):\n",
    "        activations = load_activation_probing_dataset(layer, is_place)\n",
    "        if layer == D.DETERS:\n",
    "            size = activations.shape[2]\n",
    "        elif layer == D.STOCHS:\n",
    "            size = activations.shape[2] * activations.shape[3]\n",
    "        activations = torch.from_numpy(activations).dequantize().view(-1, size)\n",
    "\n",
    "        if activations.isnan().any():\n",
    "            print(timestamp(), 'WARNING: nan activations, skipping layer', layer)\n",
    "            continue\n",
    "        activations = activations.numpy()\n",
    "\n",
    "        target = get_target_values(is_place)\n",
    "\n",
    "        layers_results = mlp_experiment(activations, target, is_place)\n",
    "\n",
    "        results[layer] = layers_results\n",
    "\n",
    "    save_probe_results(is_place, False, results)"
   ]
  },
  {
   "cell_type": "markdown",
   "metadata": {},
   "source": [
    "## probeの実行"
   ]
  },
  {
   "cell_type": "code",
   "execution_count": null,
   "metadata": {},
   "outputs": [],
   "source": [
    "# <線形回帰モデル>空間情報のprobe\n",
    "print(\"|=|=|=|=|=|===[Linear Model]Probing for Space Information===|=|=|=|=|=|\")\n",
    "is_place = True\n",
    "linear_probe_experiment(is_place)"
   ]
  },
  {
   "cell_type": "code",
   "execution_count": null,
   "metadata": {},
   "outputs": [],
   "source": [
    "# <線形回帰モデル>時間情報のprobe\n",
    "print(\"|=|=|=|=|=|===[Linear Model]Probing for Time Information===|=|=|=|=|=|\")\n",
    "is_place = False\n",
    "linear_probe_experiment(is_place)"
   ]
  },
  {
   "cell_type": "code",
   "execution_count": null,
   "metadata": {},
   "outputs": [],
   "source": [
    "# <MLP>空間情報のprobe\n",
    "print(\"|=|=|=|=|=|===[MLP]Probing for Space Information===|=|=|=|=|=|\")\n",
    "is_place = True\n",
    "mlp_probe_experiment(is_place)"
   ]
  },
  {
   "cell_type": "code",
   "execution_count": null,
   "metadata": {},
   "outputs": [],
   "source": [
    "# <MLP>時間情報のprobe\n",
    "print(\"|=|=|=|=|=|===[MLP]Probing for Time Information===|=|=|=|=|=|\")\n",
    "is_place = False\n",
    "mlp_probe_experiment(is_place)"
   ]
  }
 ],
 "metadata": {
  "kernelspec": {
   "display_name": "Python 3",
   "language": "python",
   "name": "python3"
  },
  "language_info": {
   "codemirror_mode": {
    "name": "ipython",
    "version": 3
   },
   "file_extension": ".py",
   "mimetype": "text/x-python",
   "name": "python",
   "nbconvert_exporter": "python",
   "pygments_lexer": "ipython3",
   "version": "3.11.5"
  }
 },
 "nbformat": 4,
 "nbformat_minor": 2
}
