{
 "cells": [
  {
   "cell_type": "code",
   "execution_count": null,
   "metadata": {},
   "outputs": [],
   "source": [
    "import os\n",
    "import json\n",
    "import tqdm\n",
    "import torch\n",
    "import pickle\n",
    "import numpy as np\n",
    "import pandas as pd\n",
    "from utils import timestamp\n",
    "from evaluation import *\n",
    "from sklearn.linear_model import Ridge, RidgeCV\n",
    "from sklearn.model_selection import train_test_split\n",
    "\n",
    "SEED = 0"
   ]
  },
  {
   "cell_type": "markdown",
   "metadata": {},
   "source": [
    "## activationの読み込み"
   ]
  },
  {
   "cell_type": "code",
   "execution_count": null,
   "metadata": {},
   "outputs": [],
   "source": [
    "def load_activation_probing_dataset(layer):\n",
    "    #TODO: npzのfilePATH作成 (./dataset/act/FILE_NAME = stack状態を後で確認)\n",
    "    with np.load('idx0.npz') as f:\n",
    "        if layer==0:\n",
    "            activations = f[\"deter\"]\n",
    "        elif layer==1:\n",
    "            activations = f[\"stoch\"]\n",
    "        elif layer==2:\n",
    "            activations = f[\"logit\"]\n",
    "        elif layer==3:\n",
    "            activations = f[\"enc\"]\n",
    "        elif layer==4:\n",
    "            activations = f[\"dec\"]\n",
    "        elif layer==5:\n",
    "            activations = f[\"pol\"]\n",
    "        else:\n",
    "            raise ValueError(\"[original] There is no layer with activations.\")\n",
    "    return activations"
   ]
  },
  {
   "cell_type": "markdown",
   "metadata": {},
   "source": [
    "## probeの保存"
   ]
  },
  {
   "cell_type": "code",
   "execution_count": null,
   "metadata": {},
   "outputs": [],
   "source": [
    "def save_probe_results(is_place, probe_results):\n",
    "    save_path = os.path.join(\n",
    "        os.getenv('RESULTS_DIR', 'results'),\n",
    "        'place' if is_place else 'time'\n",
    "    )\n",
    "    os.makedirs(save_path, exist_ok=True)\n",
    "\n",
    "    probe_name = 'probe.p'\n",
    "\n",
    "    pickle.dump(\n",
    "        probe_results,\n",
    "        open(os.path.join(save_path, probe_name), 'wb')\n",
    "    )"
   ]
  },
  {
   "cell_type": "markdown",
   "metadata": {},
   "source": [
    "## 時空間情報のprobing関数"
   ]
  },
  {
   "cell_type": "code",
   "execution_count": null,
   "metadata": {},
   "outputs": [],
   "source": [
    "def probe_experiment(activations, target, is_place, probe=None):\n",
    "    train_activations, test_activations = train_test_split(activations, test_size=0.2, random_state=SEED)\n",
    "\n",
    "    is_test = np.full(activations.shape[0], False)\n",
    "    test_indices = np.isin(activations, test_activations).all(axis=1)\n",
    "    is_test[test_indices] = True\n",
    "\n",
    "    train_target = target[~is_test]\n",
    "    test_target = target[is_test]\n",
    "\n",
    "    norm_train_target = (train_target - train_target.mean(axis=0)) / train_target.std(axis=0)\n",
    "\n",
    "    if probe is None:\n",
    "        # activations.shapeの確認\n",
    "        probe = Ridge(alpha=activations.shape[1])\n",
    "\n",
    "    probe.fit(train_activations, norm_train_target)\n",
    "\n",
    "    train_pred = probe.predict(train_activations)\n",
    "    test_pred = probe.predict(test_activations)\n",
    "\n",
    "    if is_place:\n",
    "        train_pred_unnorm = train_pred * train_target.std(axis=0) + train_target.mean(axis=0)\n",
    "        test_pred_unnorm = test_pred * train_target.std(axis=0) + train_target.mean(axis=0)\n",
    "\n",
    "        projection = probe.predict(activations) * train_target.std(axis=0) + train_target.mean(axis=0)\n",
    "\n",
    "        train_scores = score_place_probe(train_target, train_pred_unnorm)\n",
    "        test_scores = score_place_probe(test_target, test_pred_unnorm)\n",
    "    else:\n",
    "        train_pred_unnorm = train_pred * train_target.std() + train_target.mean()\n",
    "        test_pred_unnorm = test_pred * train_target.std() + train_target.mean()\n",
    "\n",
    "        projection = probe.predict(activations) * train_target.std() + train_target.mean()\n",
    "\n",
    "        train_scores = score_time_probe(train_target, train_pred_unnorm)\n",
    "        test_scores = score_time_probe(test_target, test_pred_unnorm)\n",
    "\n",
    "    scores = {\n",
    "        **{('train', k): v for k, v in train_scores.items()},\n",
    "        **{('test', k): v for k, v in test_scores.items()},\n",
    "    }\n",
    "\n",
    "    error_matrix = compute_proximity_error_matrix(target, projection, is_place)\n",
    "\n",
    "    train_error, test_error, combined_error = proximity_scores(error_matrix, is_test)\n",
    "    scores['train', 'prox_error'] = train_error.mean()\n",
    "    scores['test', 'prox_error'] = test_error.mean()\n",
    "\n",
    "    if is_place:\n",
    "        projection_df = pd.DataFrame({\n",
    "            'x': projection[:, 0],\n",
    "            'y': projection[:, 1],\n",
    "            'is_test': is_test,\n",
    "            'x_error': projection[:, 0] - target[:, 0],\n",
    "            'y_error': projection[:, 1] - target[:, 1],\n",
    "            'prox_error': combined_error,\n",
    "        })\n",
    "    else:\n",
    "        projection_df = pd.DataFrame({\n",
    "            'projection': projection,\n",
    "            'is_test': is_test,\n",
    "            'error': projection - target,\n",
    "            'prox_error': combined_error,\n",
    "        })\n",
    "\n",
    "    return probe, scores, projection_df"
   ]
  },
  {
   "cell_type": "code",
   "execution_count": null,
   "metadata": {},
   "outputs": [],
   "source": [
    "def get_target_values(is_place):\n",
    "    file_path = #TODO: jsonlのfilePATH作成\n",
    "    target = []\n",
    "\n",
    "    with open(file_path, \"r\") as file:\n",
    "        for line in file:\n",
    "            data = json.loads(line)\n",
    "            if is_place and \"pos\" in data:\n",
    "                target.append({\"pos\": data[\"pos\"]})\n",
    "            elif not(is_place) and \"step\" in data:\n",
    "                target.append({\"step\": data[\"step\"]})\n",
    "\n",
    "    target = pd.DataFrame(target).values\n",
    "    return target"
   ]
  },
  {
   "cell_type": "markdown",
   "metadata": {},
   "source": [
    "## メインprobing関数"
   ]
  },
  {
   "cell_type": "code",
   "execution_count": null,
   "metadata": {},
   "outputs": [],
   "source": [
    "def main_probe_experiment(is_place):\n",
    "    n_layers = 6 # encoder, rssm(=deter, stoch, logits), decoder, policy\n",
    "\n",
    "    results = {\n",
    "        'scores': {},\n",
    "        'projections': {},\n",
    "        'probe_directions': {},\n",
    "        'probe_biases': {},\n",
    "        'probe_alphas': {},\n",
    "    }\n",
    "\n",
    "    for layer in tqdm.tqdm(range(n_layers)):\n",
    "        activations = load_activation_probing_dataset(layer).dequantize()\n",
    "\n",
    "        if activations.isnan().any():\n",
    "            print(timestamp(), 'WARNING: nan activations, skipping layer', layer)\n",
    "            continue\n",
    "\n",
    "        target = get_target_values(is_place)\n",
    "\n",
    "        #TODO: alpha値の設定\n",
    "        probe = RidgeCV(alphas=np.logspace(0.8, 4.1, 12), store_cv_values=True)\n",
    "\n",
    "        probe, scores, projection = probe_experiment(activations, target, is_place, probe=probe)\n",
    "        \n",
    "        probe_direction = probe.coef_.T.astype(np.float16)\n",
    "        probe_alphas = probe.cv_values_.mean(axis=(0, 1) if is_place else 0)\n",
    "\n",
    "        results['scores'][layer] = scores\n",
    "        results['projections'][layer] = projection\n",
    "        results['probe_directions'][layer] = probe_direction\n",
    "        results['probe_biases'][layer] = probe.intercept_\n",
    "        results['probe_alphas'][layer] = probe_alphas\n",
    "\n",
    "    save_probe_results(results)"
   ]
  }
 ],
 "metadata": {
  "kernelspec": {
   "display_name": "Python 3",
   "language": "python",
   "name": "python3"
  },
  "language_info": {
   "codemirror_mode": {
    "name": "ipython",
    "version": 3
   },
   "file_extension": ".py",
   "mimetype": "text/x-python",
   "name": "python",
   "nbconvert_exporter": "python",
   "pygments_lexer": "ipython3",
   "version": "3.11.5"
  }
 },
 "nbformat": 4,
 "nbformat_minor": 2
}
